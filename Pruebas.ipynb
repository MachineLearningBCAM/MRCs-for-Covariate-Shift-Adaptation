{
 "cells": [
  {
   "cell_type": "code",
   "execution_count": 18,
   "metadata": {},
   "outputs": [
    {
     "ename": "ImportError",
     "evalue": "cannot import name 'DWGCS_parameters' from 'UncertaintySet_Functions.DWGCS_parameters' (/Users/jsegovia/Python/CovariateShift/UncertaintySet_Functions/DWGCS_parameters.py)",
     "output_type": "error",
     "traceback": [
      "\u001b[0;31m---------------------------------------------------------------------------\u001b[0m",
      "\u001b[0;31mImportError\u001b[0m                               Traceback (most recent call last)",
      "Cell \u001b[0;32mIn[18], line 4\u001b[0m\n\u001b[1;32m      2\u001b[0m \u001b[39mfrom\u001b[39;00m \u001b[39mAuxiliary_Functions\u001b[39;00m\u001b[39m.\u001b[39;00m\u001b[39mphi\u001b[39;00m \u001b[39mimport\u001b[39;00m phi \n\u001b[1;32m      3\u001b[0m \u001b[39mfrom\u001b[39;00m \u001b[39mWeight_Functions\u001b[39;00m\u001b[39m.\u001b[39;00m\u001b[39mDWKMM\u001b[39;00m \u001b[39mimport\u001b[39;00m DWKMM\n\u001b[0;32m----> 4\u001b[0m \u001b[39mfrom\u001b[39;00m \u001b[39mUncertaintySet_Functions\u001b[39;00m\u001b[39m.\u001b[39;00m\u001b[39mDWGCS_parameters\u001b[39;00m \u001b[39mimport\u001b[39;00m DWGCS_parameters \n\u001b[1;32m      5\u001b[0m \u001b[39m# Datos de ejemplo\u001b[39;00m\n\u001b[1;32m      6\u001b[0m xtr \u001b[39m=\u001b[39m np\u001b[39m.\u001b[39mrandom\u001b[39m.\u001b[39mrand(\u001b[39m5\u001b[39m, \u001b[39m3\u001b[39m)  \u001b[39m# Ejemplo de datos de entrenamiento (5 filas, 3 columnas)\u001b[39;00m\n",
      "\u001b[0;31mImportError\u001b[0m: cannot import name 'DWGCS_parameters' from 'UncertaintySet_Functions.DWGCS_parameters' (/Users/jsegovia/Python/CovariateShift/UncertaintySet_Functions/DWGCS_parameters.py)"
     ]
    }
   ],
   "source": [
    "import numpy as np\n",
    "from Auxiliary_Functions.phi import phi \n",
    "from Weight_Functions.DWKMM import DWKMM\n",
    "from UncertaintySet_Functions.DWGCS_parameters import DWGCS_parameters \n",
    "# Datos de ejemplo\n",
    "xtr = np.random.rand(5, 3)  # Ejemplo de datos de entrenamiento (5 filas, 3 columnas)\n",
    "xte = np.random.rand(3, 3)  # Ejemplo de datos de prueba (3 filas, 3 columnas)\n",
    "ytr = np.array([[1],[2],[1],[1],[2]]) \n",
    "\n",
    "print(\"The training samples are,\" , xtr)"
   ]
  },
  {
   "cell_type": "code",
   "execution_count": null,
   "metadata": {},
   "outputs": [],
   "source": [
    "class Mdl:\n",
    "    def __init__(self,bias,feature_map,lambda0,labels):\n",
    "        self.bias = bias\n",
    "        self.feature_map = feature_map\n",
    "        self.lambda0 = lambda0\n",
    "        self.labels = labels\n",
    "\n",
    "DWGCS = Mdl('bias','linear',0.3,2)\n",
    "DWGCS.beta = DWKMM(DWGCS,xtr,xte)\n",
    "print(\"The beta weights are,\" , DWGCS.beta)"
   ]
  },
  {
   "cell_type": "code",
   "execution_count": null,
   "metadata": {},
   "outputs": [
    {
     "name": "stdout",
     "output_type": "stream",
     "text": [
      "El vector tau es, [[[0.03458707 0.02285763 0.02949586 0.00242806 0.         0.\n",
      "   0.         0.        ]]\n",
      "\n",
      " [[0.         0.         0.         0.         0.2063634  0.18605882\n",
      "   0.10630724 0.18372899]]\n",
      "\n",
      " [[0.92314912 0.88013713 0.04412716 0.87948538 0.         0.\n",
      "   0.         0.        ]]\n",
      "\n",
      " [[0.49702574 0.25023    0.09153057 0.37912305 0.         0.\n",
      "   0.         0.        ]]\n",
      "\n",
      " [[0.         0.         0.         0.         0.19009642 0.14930755\n",
      "   0.11271406 0.13214111]]]\n"
     ]
    }
   ],
   "source": [
    "auxtau = []\n",
    "\n",
    "n = xtr.shape[0]\n",
    "t = xte.shape[0]\n",
    "\n",
    "for i in range(n):\n",
    "    auxtau.append(DWGCS.beta[i] * phi(DWGCS, xtr[i, :], ytr[i]))\n",
    "\n",
    "DWGCS.tau = np.sum(np.array(auxtau))/n \n",
    "\n",
    "print(\"El vector tau es,\" , DWGCS.tau)\n",
    "\n",
    "DWGCS.tau = DWGCS_parameters(Mdl,xtr,ytr,xte)"
   ]
  }
 ],
 "metadata": {
  "kernelspec": {
   "display_name": "CovariateShift",
   "language": "python",
   "name": "python3"
  },
  "language_info": {
   "codemirror_mode": {
    "name": "ipython",
    "version": 3
   },
   "file_extension": ".py",
   "mimetype": "text/x-python",
   "name": "python",
   "nbconvert_exporter": "python",
   "pygments_lexer": "ipython3",
   "version": "3.8.16"
  },
  "orig_nbformat": 4
 },
 "nbformat": 4,
 "nbformat_minor": 2
}
