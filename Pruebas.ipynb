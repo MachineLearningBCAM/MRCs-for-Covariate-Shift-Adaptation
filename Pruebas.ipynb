{
 "cells": [
  {
   "cell_type": "code",
   "execution_count": 1,
   "metadata": {},
   "outputs": [
    {
     "name": "stdout",
     "output_type": "stream",
     "text": [
      "The sigma value is, 26.6\n",
      "The training samples are,\n",
      "[[ 1.83111752 -0.62883089  1.        ]\n",
      " [-0.82016248 -1.11608551  2.        ]\n",
      " [ 0.89632522 -2.41402695  1.        ]\n",
      " [ 1.97949737 -0.78672012  1.        ]\n",
      " [ 0.22335683 -0.24598268  1.        ]\n",
      " [ 1.63128782 -2.1589984   1.        ]\n",
      " [-0.56673224 -0.38827161  2.        ]\n",
      " [ 1.22686954 -1.14452834  1.        ]\n",
      " [-0.38198907 -0.90995838  2.        ]\n",
      " [-0.11761212  0.63319238  1.        ]\n",
      " [-1.52525253  1.22682911  2.        ]\n",
      " [ 0.94089234  0.54833618  1.        ]\n",
      " [ 0.93998732 -0.70486621  1.        ]\n",
      " [-0.32097257 -0.97113935  2.        ]\n",
      " [-0.49956809  0.57777049  2.        ]\n",
      " [-1.02153375 -0.40168784  2.        ]\n",
      " [-1.01600576 -0.87546186  2.        ]\n",
      " [-0.99638883  0.00408872  2.        ]\n",
      " [-1.54581123  0.26512044  2.        ]\n",
      " [ 1.87479008  0.80141221  1.        ]\n",
      " [-0.40589332 -0.92028062  2.        ]\n",
      " [-1.08989071  1.8054877   2.        ]\n",
      " [-0.10702678 -0.65549526  1.        ]\n",
      " [ 0.06554551  2.23631475  1.        ]\n",
      " [-0.02160612  0.66952199  1.        ]]\n"
     ]
    }
   ],
   "source": [
    "import numpy as np\n",
    "from sklearn.neighbors import NearestNeighbors\n",
    "from Auxiliary_Functions.phi import phi \n",
    "from DWGCS.DWGCS import DWGCS\n",
    "# Datos de ejemplo\n",
    "# np.random.seed(1)\n",
    "# x = np.random.multivariate_normal([0,0],[[1,0],[0,1]],50)\n",
    "# y = np.zeros([50,1])\n",
    "# for i in range(x.shape[0]):\n",
    "#    if x[i,0] >= 0:\n",
    "#        y[i] = int(1)\n",
    "#    else:\n",
    "#        y[i] = int(2)\n",
    "#x = (x-np.mean(x,axis=0))/np.std(x,axis=0)\n",
    "# m = x.shape[1]\n",
    "# _, distances = NearestNeighbors(n_neighbors=5, algorithm='auto').fit(x).kneighbors(x)\n",
    "# sigma_ = np.mean(distances[:, -1])\n",
    "\n",
    "# np.savetxt('synthetic_trial.csv', np.concatenate((x,y), axis=1), delimiter=',')\n",
    "\n",
    "data = np.genfromtxt('synthetic_trial.csv', delimiter=',') \n",
    "\n",
    "xtr = data[:25,:2]\n",
    "xte = data[25:,:2]\n",
    "ytr = data[:25,2:].astype(int)\n",
    "yte = data[25:,2:].astype(int)\n",
    "m = xtr.shape[1]\n",
    "sigma_ = 26.6\n",
    "\n",
    "print(\"The sigma value is,\", sigma_)\n",
    "\n",
    "print(\"The training samples are,\")\n",
    "print(np.concatenate((xtr,ytr), axis=1))"
   ]
  },
  {
   "cell_type": "code",
   "execution_count": 2,
   "metadata": {},
   "outputs": [
    {
     "name": "stdout",
     "output_type": "stream",
     "text": [
      "The beta weights are,\n",
      "[[9.69147804e-06]\n",
      " [7.61347129e-06]\n",
      " [7.18827000e-05]\n",
      " [1.23309684e-05]\n",
      " [5.11388217e-06]\n",
      " [4.99872526e+00]\n",
      " [5.73773426e-06]\n",
      " [7.64375785e-06]\n",
      " [6.02076659e-06]\n",
      " [5.83498583e-06]\n",
      " [3.35088063e-05]\n",
      " [6.17745919e-06]\n",
      " [5.91771666e-06]\n",
      " [6.05171211e-06]\n",
      " [6.20651192e-06]\n",
      " [6.93913968e-06]\n",
      " [7.69818444e-06]\n",
      " [6.80322842e-06]\n",
      " [1.13712318e-05]\n",
      " [1.33711801e-05]\n",
      " [6.07390717e-06]\n",
      " [1.44994663e-04]\n",
      " [5.41809773e-06]\n",
      " [8.76452470e-04]\n",
      " [5.84048792e-06]]\n",
      "The alpha weights are,\n",
      "[[1.]\n",
      " [1.]\n",
      " [1.]\n",
      " [1.]\n",
      " [1.]\n",
      " [1.]\n",
      " [1.]\n",
      " [1.]\n",
      " [1.]\n",
      " [1.]\n",
      " [1.]\n",
      " [1.]\n",
      " [1.]\n",
      " [1.]\n",
      " [1.]\n",
      " [1.]\n",
      " [1.]\n",
      " [1.]\n",
      " [1.]\n",
      " [1.]\n",
      " [1.]\n",
      " [1.]\n",
      " [1.]\n",
      " [1.]\n",
      " [1.]]\n",
      "The optimization value of the DW-KMM is 1.434921272073922\n"
     ]
    }
   ],
   "source": [
    "class Mdl:\n",
    "    def __init__(self,intercep,deterministic,feature_map,labels,lambda0,loss,sigma,D):\n",
    "        self.intercep = intercep\n",
    "        self.deterministic = deterministic\n",
    "        self.feature_map = feature_map\n",
    "        self.labels = labels\n",
    "        self.lambda0 = lambda0 \n",
    "        self.loss = loss\n",
    "        self.sigma_ = sigma\n",
    "        self.D = D\n",
    "\n",
    "Prueba1 = Mdl(True,True,'linear',2,0.3,'0-1',sigma_,1)\n",
    "\n",
    "Prueba1 = DWGCS.DWKMM(Prueba1,xtr,xte)\n",
    "print(\"The beta weights are,\")\n",
    "print(Prueba1.beta_)\n",
    "print(\"The alpha weights are,\")\n",
    "print(Prueba1.alpha_)\n",
    "print(\"The optimization value of the DW-KMM is\", Prueba1.min_DWKMM)"
   ]
  },
  {
   "cell_type": "code",
   "execution_count": 3,
   "metadata": {},
   "outputs": [
    {
     "name": "stdout",
     "output_type": "stream",
     "text": [
      "El vector tau es,\n",
      "[ 1.99990037e-01  3.26182770e-01 -4.31618606e-01  9.96077429e-06\n",
      " -1.07083363e-05  1.08930737e-05]\n",
      "El vector lambda es,\n",
      "[0.22926746 0.35546019 0.50856632 0.07693775 0.07695842 0.07693682]\n"
     ]
    }
   ],
   "source": [
    "Prueba1 = DWGCS.parameters(Prueba1,xtr,ytr,xte)\n",
    "\n",
    "print(\"El vector tau es,\")\n",
    "print( Prueba1.tau_)\n",
    "print(\"El vector lambda es,\")\n",
    "print( Prueba1.lambda_)"
   ]
  },
  {
   "cell_type": "code",
   "execution_count": 4,
   "metadata": {},
   "outputs": [
    {
     "ename": "ValueError",
     "evalue": "Cannot broadcast dimensions  (1, 25) (25,)",
     "output_type": "error",
     "traceback": [
      "\u001b[0;31m---------------------------------------------------------------------------\u001b[0m",
      "\u001b[0;31mValueError\u001b[0m                                Traceback (most recent call last)",
      "Cell \u001b[0;32mIn[4], line 1\u001b[0m\n\u001b[0;32m----> 1\u001b[0m Prueba1 \u001b[39m=\u001b[39m DWGCS\u001b[39m.\u001b[39;49mlearning(Prueba1,xte)\n\u001b[1;32m      3\u001b[0m \u001b[39mprint\u001b[39m(\u001b[39m\"\u001b[39m\u001b[39mEl vector mu es,\u001b[39m\u001b[39m\"\u001b[39m)\n\u001b[1;32m      4\u001b[0m \u001b[39mprint\u001b[39m( np\u001b[39m.\u001b[39mravel(Prueba1\u001b[39m.\u001b[39mmu_))\n",
      "File \u001b[0;32m~/Python/CovariateShift/DWGCS/DWGCS.py:111\u001b[0m, in \u001b[0;36mDWGCS.learning\u001b[0;34m(Mdl, xte)\u001b[0m\n\u001b[1;32m    108\u001b[0m mu_ \u001b[39m=\u001b[39m cvx\u001b[39m.\u001b[39mVariable((d,\u001b[39m1\u001b[39m))\n\u001b[1;32m    109\u001b[0m \u001b[39m# Define the objetive function\u001b[39;00m\n\u001b[1;32m    110\u001b[0m objective \u001b[39m=\u001b[39m cvx\u001b[39m.\u001b[39mMinimize( \u001b[39m-\u001b[39mMdl\u001b[39m.\u001b[39mtau_ \u001b[39m@\u001b[39m mu_ \\\n\u001b[0;32m--> 111\u001b[0m                         \u001b[39m+\u001b[39m cvx\u001b[39m.\u001b[39msum(np\u001b[39m.\u001b[39;49mones((\u001b[39m1\u001b[39;49m,t))\u001b[39m+\u001b[39;49mcvx\u001b[39m.\u001b[39;49mmax(cvx\u001b[39m.\u001b[39;49mreshape(M \u001b[39m@\u001b[39;49m mu_, (\u001b[39m2\u001b[39;49m\u001b[39m*\u001b[39;49m\u001b[39m*\u001b[39;49mMdl\u001b[39m.\u001b[39;49mlabels\u001b[39m-\u001b[39;49m\u001b[39m1\u001b[39;49m, t)) \u001b[39m-\u001b[39;49m v, axis\u001b[39m=\u001b[39;49m\u001b[39m0\u001b[39;49m))\u001b[39m/\u001b[39mt \\\n\u001b[1;32m    112\u001b[0m                         \u001b[39m+\u001b[39m Mdl\u001b[39m.\u001b[39mlambda_ \u001b[39m@\u001b[39m cvx\u001b[39m.\u001b[39mabs(mu_))\n\u001b[1;32m    113\u001b[0m problem \u001b[39m=\u001b[39m cvx\u001b[39m.\u001b[39mProblem(objective)\n\u001b[1;32m    114\u001b[0m problem\u001b[39m.\u001b[39msolve()\n",
      "File \u001b[0;32m~/.conda/envs/CovariateShift/lib/python3.8/site-packages/cvxpy/expressions/expression.py:745\u001b[0m, in \u001b[0;36mExpression.__array_ufunc__\u001b[0;34m(self, ufunc, method, *args, **kwargs)\u001b[0m\n\u001b[1;32m    741\u001b[0m     ufunc_handler \u001b[39m=\u001b[39m __BINARY_EXPRESSION_UFUNCS__[ufunc]\n\u001b[1;32m    742\u001b[0m     \u001b[39mif\u001b[39;00m kwargs \u001b[39m==\u001b[39m {} \u001b[39mand\u001b[39;00m \\\n\u001b[1;32m    743\u001b[0m             \u001b[39mlen\u001b[39m(args) \u001b[39m==\u001b[39m \u001b[39m2\u001b[39m \u001b[39mand\u001b[39;00m \\\n\u001b[1;32m    744\u001b[0m             args[\u001b[39m1\u001b[39m] \u001b[39mis\u001b[39;00m \u001b[39mself\u001b[39m:\n\u001b[0;32m--> 745\u001b[0m         \u001b[39mreturn\u001b[39;00m ufunc_handler(\u001b[39mself\u001b[39;49m, args[\u001b[39m0\u001b[39;49m])\n\u001b[1;32m    746\u001b[0m \u001b[39mexcept\u001b[39;00m \u001b[39mKeyError\u001b[39;00m:\n\u001b[1;32m    747\u001b[0m     \u001b[39mpass\u001b[39;00m\n",
      "File \u001b[0;32m~/.conda/envs/CovariateShift/lib/python3.8/site-packages/cvxpy/expressions/expression.py:71\u001b[0m, in \u001b[0;36m<lambda>\u001b[0;34m(self, a)\u001b[0m\n\u001b[1;32m     56\u001b[0m __STAR_MATMUL_WARNING__ \u001b[39m=\u001b[39m \u001b[39m\"\"\"\u001b[39m\n\u001b[1;32m     57\u001b[0m \u001b[39mThis use of ``*`` has resulted in matrix multiplication.\u001b[39m\n\u001b[1;32m     58\u001b[0m \u001b[39mUsing ``*`` for matrix multiplication has been deprecated since CVXPY 1.1.\u001b[39m\n\u001b[0;32m   (...)\u001b[0m\n\u001b[1;32m     62\u001b[0m \u001b[39mThis code path has been hit \u001b[39m\u001b[39m%s\u001b[39;00m\u001b[39m times so far.\u001b[39m\n\u001b[1;32m     63\u001b[0m \u001b[39m\"\"\"\u001b[39m\n\u001b[1;32m     65\u001b[0m __NUMPY_UFUNC_ERROR__ \u001b[39m=\u001b[39m \u001b[39m\"\"\"\u001b[39m\n\u001b[1;32m     66\u001b[0m \u001b[39mYou\u001b[39m\u001b[39m'\u001b[39m\u001b[39mre calling a NumPy function on a CVXPY expression. This is prone to causing\u001b[39m\n\u001b[1;32m     67\u001b[0m \u001b[39merrors or code that doesn\u001b[39m\u001b[39m'\u001b[39m\u001b[39mt behave as expected. Consider using one of the\u001b[39m\n\u001b[1;32m     68\u001b[0m \u001b[39mfunctions documented here: https://www.cvxpy.org/tutorial/functions/index.html\u001b[39m\n\u001b[1;32m     69\u001b[0m \u001b[39m\"\"\"\u001b[39m\n\u001b[1;32m     70\u001b[0m __BINARY_EXPRESSION_UFUNCS__ \u001b[39m=\u001b[39m {\n\u001b[0;32m---> 71\u001b[0m         np\u001b[39m.\u001b[39madd: \u001b[39mlambda\u001b[39;00m \u001b[39mself\u001b[39m, a: \u001b[39mself\u001b[39;49m\u001b[39m.\u001b[39;49m\u001b[39m__radd__\u001b[39;49m(a),\n\u001b[1;32m     72\u001b[0m         np\u001b[39m.\u001b[39msubtract: \u001b[39mlambda\u001b[39;00m \u001b[39mself\u001b[39m, a: \u001b[39mself\u001b[39m\u001b[39m.\u001b[39m\u001b[39m__rsub__\u001b[39m(a),\n\u001b[1;32m     73\u001b[0m         np\u001b[39m.\u001b[39mmultiply: \u001b[39mlambda\u001b[39;00m \u001b[39mself\u001b[39m, a: \u001b[39mself\u001b[39m\u001b[39m.\u001b[39m\u001b[39m__rmul__\u001b[39m(a),\n\u001b[1;32m     74\u001b[0m         np\u001b[39m.\u001b[39mdivide: \u001b[39mlambda\u001b[39;00m \u001b[39mself\u001b[39m, a: \u001b[39mself\u001b[39m\u001b[39m.\u001b[39m__rdiv__(a),\n\u001b[1;32m     75\u001b[0m         np\u001b[39m.\u001b[39mmatmul: \u001b[39mlambda\u001b[39;00m \u001b[39mself\u001b[39m, a: \u001b[39mself\u001b[39m\u001b[39m.\u001b[39m\u001b[39m__rmatmul__\u001b[39m(a),\n\u001b[1;32m     76\u001b[0m         np\u001b[39m.\u001b[39mpower: \u001b[39mlambda\u001b[39;00m \u001b[39mself\u001b[39m, a: \u001b[39mself\u001b[39m\u001b[39m.\u001b[39m\u001b[39m__rpow__\u001b[39m(a),\n\u001b[1;32m     77\u001b[0m         np\u001b[39m.\u001b[39mleft_shift: \u001b[39mlambda\u001b[39;00m \u001b[39mself\u001b[39m, a: \u001b[39mself\u001b[39m\u001b[39m.\u001b[39m\u001b[39m__rlshift__\u001b[39m(a),\n\u001b[1;32m     78\u001b[0m         np\u001b[39m.\u001b[39mright_shift: \u001b[39mlambda\u001b[39;00m \u001b[39mself\u001b[39m, a: \u001b[39mself\u001b[39m\u001b[39m.\u001b[39m\u001b[39m__rrshift__\u001b[39m(a),\n\u001b[1;32m     79\u001b[0m         np\u001b[39m.\u001b[39mequal: \u001b[39mlambda\u001b[39;00m \u001b[39mself\u001b[39m, a: \u001b[39mself\u001b[39m\u001b[39m.\u001b[39m\u001b[39m__eq__\u001b[39m(a),\n\u001b[1;32m     80\u001b[0m         \u001b[39m# <= and >= are backwards because this is only called for code of the\u001b[39;00m\n\u001b[1;32m     81\u001b[0m         \u001b[39m# form ndarray <= Expression\u001b[39;00m\n\u001b[1;32m     82\u001b[0m         np\u001b[39m.\u001b[39mless_equal: \u001b[39mlambda\u001b[39;00m \u001b[39mself\u001b[39m, a: \u001b[39mself\u001b[39m\u001b[39m.\u001b[39m\u001b[39m__ge__\u001b[39m(a),\n\u001b[1;32m     83\u001b[0m         np\u001b[39m.\u001b[39mgreater_equal: \u001b[39mlambda\u001b[39;00m \u001b[39mself\u001b[39m, a: \u001b[39mself\u001b[39m\u001b[39m.\u001b[39m\u001b[39m__le__\u001b[39m(a),\n\u001b[1;32m     84\u001b[0m         np\u001b[39m.\u001b[39mless: \u001b[39mlambda\u001b[39;00m \u001b[39mself\u001b[39m, a: \u001b[39mself\u001b[39m\u001b[39m.\u001b[39m\u001b[39m__gt__\u001b[39m(a),\n\u001b[1;32m     85\u001b[0m         np\u001b[39m.\u001b[39mgreater: \u001b[39mlambda\u001b[39;00m \u001b[39mself\u001b[39m, a: \u001b[39mself\u001b[39m\u001b[39m.\u001b[39m\u001b[39m__lt__\u001b[39m(a),\n\u001b[1;32m     86\u001b[0m }\n\u001b[1;32m     89\u001b[0m \u001b[39mclass\u001b[39;00m \u001b[39mExpression\u001b[39;00m(u\u001b[39m.\u001b[39mCanonical):\n\u001b[1;32m     90\u001b[0m \u001b[39m    \u001b[39m\u001b[39m\"\"\"A mathematical expression in a convex optimization problem.\u001b[39;00m\n\u001b[1;32m     91\u001b[0m \n\u001b[1;32m     92\u001b[0m \u001b[39m    Overloads many operators to allow for convenient creation of compound\u001b[39;00m\n\u001b[1;32m     93\u001b[0m \u001b[39m    expressions (e.g., the sum of two expressions) and constraints.\u001b[39;00m\n\u001b[1;32m     94\u001b[0m \u001b[39m    \"\"\"\u001b[39;00m\n",
      "File \u001b[0;32m~/.conda/envs/CovariateShift/lib/python3.8/site-packages/cvxpy/expressions/expression.py:50\u001b[0m, in \u001b[0;36m_cast_other.<locals>.cast_op\u001b[0;34m(self, other)\u001b[0m\n\u001b[1;32m     47\u001b[0m \u001b[39m\u001b[39m\u001b[39m\"\"\"A wrapped binary operator that can handle non-Expression arguments.\u001b[39;00m\n\u001b[1;32m     48\u001b[0m \u001b[39m\"\"\"\u001b[39;00m\n\u001b[1;32m     49\u001b[0m other \u001b[39m=\u001b[39m \u001b[39mself\u001b[39m\u001b[39m.\u001b[39mcast_to_const(other)\n\u001b[0;32m---> 50\u001b[0m \u001b[39mreturn\u001b[39;00m binary_op(\u001b[39mself\u001b[39;49m, other)\n",
      "File \u001b[0;32m~/.conda/envs/CovariateShift/lib/python3.8/site-packages/cvxpy/expressions/expression.py:569\u001b[0m, in \u001b[0;36mExpression.__radd__\u001b[0;34m(self, other)\u001b[0m\n\u001b[1;32m    567\u001b[0m \u001b[39mif\u001b[39;00m \u001b[39misinstance\u001b[39m(other, cvxtypes\u001b[39m.\u001b[39mconstant()) \u001b[39mand\u001b[39;00m other\u001b[39m.\u001b[39mis_zero():\n\u001b[1;32m    568\u001b[0m     \u001b[39mreturn\u001b[39;00m \u001b[39mself\u001b[39m\n\u001b[0;32m--> 569\u001b[0m \u001b[39mreturn\u001b[39;00m other \u001b[39m+\u001b[39;49m \u001b[39mself\u001b[39;49m\n",
      "File \u001b[0;32m~/.conda/envs/CovariateShift/lib/python3.8/site-packages/cvxpy/expressions/expression.py:50\u001b[0m, in \u001b[0;36m_cast_other.<locals>.cast_op\u001b[0;34m(self, other)\u001b[0m\n\u001b[1;32m     47\u001b[0m \u001b[39m\u001b[39m\u001b[39m\"\"\"A wrapped binary operator that can handle non-Expression arguments.\u001b[39;00m\n\u001b[1;32m     48\u001b[0m \u001b[39m\"\"\"\u001b[39;00m\n\u001b[1;32m     49\u001b[0m other \u001b[39m=\u001b[39m \u001b[39mself\u001b[39m\u001b[39m.\u001b[39mcast_to_const(other)\n\u001b[0;32m---> 50\u001b[0m \u001b[39mreturn\u001b[39;00m binary_op(\u001b[39mself\u001b[39;49m, other)\n",
      "File \u001b[0;32m~/.conda/envs/CovariateShift/lib/python3.8/site-packages/cvxpy/expressions/expression.py:561\u001b[0m, in \u001b[0;36mExpression.__add__\u001b[0;34m(self, other)\u001b[0m\n\u001b[1;32m    559\u001b[0m     \u001b[39mreturn\u001b[39;00m \u001b[39mself\u001b[39m\n\u001b[1;32m    560\u001b[0m \u001b[39mself\u001b[39m, other \u001b[39m=\u001b[39m \u001b[39mself\u001b[39m\u001b[39m.\u001b[39mbroadcast(\u001b[39mself\u001b[39m, other)\n\u001b[0;32m--> 561\u001b[0m \u001b[39mreturn\u001b[39;00m cvxtypes\u001b[39m.\u001b[39;49madd_expr()([\u001b[39mself\u001b[39;49m, other])\n",
      "File \u001b[0;32m~/.conda/envs/CovariateShift/lib/python3.8/site-packages/cvxpy/atoms/affine/add_expr.py:34\u001b[0m, in \u001b[0;36mAddExpression.__init__\u001b[0;34m(self, arg_groups)\u001b[0m\n\u001b[1;32m     31\u001b[0m \u001b[39mdef\u001b[39;00m \u001b[39m__init__\u001b[39m(\u001b[39mself\u001b[39m, arg_groups) \u001b[39m-\u001b[39m\u001b[39m>\u001b[39m \u001b[39mNone\u001b[39;00m:\n\u001b[1;32m     32\u001b[0m     \u001b[39m# For efficiency group args as sums.\u001b[39;00m\n\u001b[1;32m     33\u001b[0m     \u001b[39mself\u001b[39m\u001b[39m.\u001b[39m_arg_groups \u001b[39m=\u001b[39m arg_groups\n\u001b[0;32m---> 34\u001b[0m     \u001b[39msuper\u001b[39;49m(AddExpression, \u001b[39mself\u001b[39;49m)\u001b[39m.\u001b[39;49m\u001b[39m__init__\u001b[39;49m(\u001b[39m*\u001b[39;49marg_groups)\n\u001b[1;32m     35\u001b[0m     \u001b[39mself\u001b[39m\u001b[39m.\u001b[39margs \u001b[39m=\u001b[39m []\n\u001b[1;32m     36\u001b[0m     \u001b[39mfor\u001b[39;00m group \u001b[39min\u001b[39;00m arg_groups:\n",
      "File \u001b[0;32m~/.conda/envs/CovariateShift/lib/python3.8/site-packages/cvxpy/atoms/atom.py:51\u001b[0m, in \u001b[0;36mAtom.__init__\u001b[0;34m(self, *args)\u001b[0m\n\u001b[1;32m     49\u001b[0m \u001b[39mself\u001b[39m\u001b[39m.\u001b[39margs \u001b[39m=\u001b[39m [Atom\u001b[39m.\u001b[39mcast_to_const(arg) \u001b[39mfor\u001b[39;00m arg \u001b[39min\u001b[39;00m args]\n\u001b[1;32m     50\u001b[0m \u001b[39mself\u001b[39m\u001b[39m.\u001b[39mvalidate_arguments()\n\u001b[0;32m---> 51\u001b[0m \u001b[39mself\u001b[39m\u001b[39m.\u001b[39m_shape \u001b[39m=\u001b[39m \u001b[39mself\u001b[39;49m\u001b[39m.\u001b[39;49mshape_from_args()\n\u001b[1;32m     52\u001b[0m \u001b[39mif\u001b[39;00m \u001b[39mlen\u001b[39m(\u001b[39mself\u001b[39m\u001b[39m.\u001b[39m_shape) \u001b[39m>\u001b[39m \u001b[39m2\u001b[39m:\n\u001b[1;32m     53\u001b[0m     \u001b[39mraise\u001b[39;00m \u001b[39mValueError\u001b[39;00m(\u001b[39m\"\u001b[39m\u001b[39mAtoms must be at most 2D.\u001b[39m\u001b[39m\"\u001b[39m)\n",
      "File \u001b[0;32m~/.conda/envs/CovariateShift/lib/python3.8/site-packages/cvxpy/atoms/affine/add_expr.py:42\u001b[0m, in \u001b[0;36mAddExpression.shape_from_args\u001b[0;34m(self)\u001b[0m\n\u001b[1;32m     39\u001b[0m \u001b[39mdef\u001b[39;00m \u001b[39mshape_from_args\u001b[39m(\u001b[39mself\u001b[39m) \u001b[39m-\u001b[39m\u001b[39m>\u001b[39m Tuple[\u001b[39mint\u001b[39m, \u001b[39m.\u001b[39m\u001b[39m.\u001b[39m\u001b[39m.\u001b[39m]:\n\u001b[1;32m     40\u001b[0m \u001b[39m    \u001b[39m\u001b[39m\"\"\"Returns the (row, col) shape of the expression.\u001b[39;00m\n\u001b[1;32m     41\u001b[0m \u001b[39m    \"\"\"\u001b[39;00m\n\u001b[0;32m---> 42\u001b[0m     \u001b[39mreturn\u001b[39;00m u\u001b[39m.\u001b[39;49mshape\u001b[39m.\u001b[39;49msum_shapes([arg\u001b[39m.\u001b[39;49mshape \u001b[39mfor\u001b[39;49;00m arg \u001b[39min\u001b[39;49;00m \u001b[39mself\u001b[39;49m\u001b[39m.\u001b[39;49margs])\n",
      "File \u001b[0;32m~/.conda/envs/CovariateShift/lib/python3.8/site-packages/cvxpy/utilities/shape.py:50\u001b[0m, in \u001b[0;36msum_shapes\u001b[0;34m(shapes)\u001b[0m\n\u001b[1;32m     47\u001b[0m \u001b[39mfor\u001b[39;00m t \u001b[39min\u001b[39;00m shapes[\u001b[39m1\u001b[39m:]:\n\u001b[1;32m     48\u001b[0m     \u001b[39m# Only allow broadcasting for 0D arrays or summation of scalars.\u001b[39;00m\n\u001b[1;32m     49\u001b[0m     \u001b[39mif\u001b[39;00m shape \u001b[39m!=\u001b[39m t \u001b[39mand\u001b[39;00m \u001b[39mlen\u001b[39m(squeezed(shape)) \u001b[39m!=\u001b[39m \u001b[39m0\u001b[39m \u001b[39mand\u001b[39;00m \u001b[39mlen\u001b[39m(squeezed(t)) \u001b[39m!=\u001b[39m \u001b[39m0\u001b[39m:\n\u001b[0;32m---> 50\u001b[0m         \u001b[39mraise\u001b[39;00m \u001b[39mValueError\u001b[39;00m(\n\u001b[1;32m     51\u001b[0m             \u001b[39m\"\u001b[39m\u001b[39mCannot broadcast dimensions \u001b[39m\u001b[39m\"\u001b[39m \u001b[39m+\u001b[39m\n\u001b[1;32m     52\u001b[0m             \u001b[39mlen\u001b[39m(shapes)\u001b[39m*\u001b[39m\u001b[39m\"\u001b[39m\u001b[39m \u001b[39m\u001b[39m%s\u001b[39;00m\u001b[39m\"\u001b[39m \u001b[39m%\u001b[39m \u001b[39mtuple\u001b[39m(shapes))\n\u001b[1;32m     54\u001b[0m     longer \u001b[39m=\u001b[39m shape \u001b[39mif\u001b[39;00m \u001b[39mlen\u001b[39m(shape) \u001b[39m>\u001b[39m\u001b[39m=\u001b[39m \u001b[39mlen\u001b[39m(t) \u001b[39melse\u001b[39;00m t\n\u001b[1;32m     55\u001b[0m     shorter \u001b[39m=\u001b[39m shape \u001b[39mif\u001b[39;00m \u001b[39mlen\u001b[39m(shape) \u001b[39m<\u001b[39m \u001b[39mlen\u001b[39m(t) \u001b[39melse\u001b[39;00m t\n",
      "\u001b[0;31mValueError\u001b[0m: Cannot broadcast dimensions  (1, 25) (25,)"
     ]
    }
   ],
   "source": [
    "Prueba1 = DWGCS.learning(Prueba1,xte)\n",
    "\n",
    "print(\"El vector mu es,\")\n",
    "print( np.ravel(Prueba1.mu_))\n",
    "print(\"The optimization value of the DW-GCS is\", Prueba1.RU)"
   ]
  },
  {
   "cell_type": "code",
   "execution_count": null,
   "metadata": {},
   "outputs": [],
   "source": [
    "Prueba1 = DWGCS.prediction(Prueba1,xte,yte)\n",
    "\n",
    "print(\"El error de clasificación es\",)\n",
    "print( Prueba1.error)\n",
    "print(\"The classification rule h is\",)\n",
    "print( Prueba1.h)"
   ]
  }
 ],
 "metadata": {
  "kernelspec": {
   "display_name": "CovariateShift",
   "language": "python",
   "name": "python3"
  },
  "language_info": {
   "codemirror_mode": {
    "name": "ipython",
    "version": 3
   },
   "file_extension": ".py",
   "mimetype": "text/x-python",
   "name": "python",
   "nbconvert_exporter": "python",
   "pygments_lexer": "ipython3",
   "version": "3.8.16"
  },
  "orig_nbformat": 4
 },
 "nbformat": 4,
 "nbformat_minor": 2
}
