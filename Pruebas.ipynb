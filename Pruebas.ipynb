{
 "cells": [
  {
   "cell_type": "code",
   "execution_count": null,
   "metadata": {},
   "outputs": [],
   "source": [
    "import numpy as np\n",
    "from sklearn.neighbors import NearestNeighbors\n",
    "from Auxiliary_Functions.phi import phi \n",
    "from DWGCS.DWGCS import DWGCS\n",
    "# Datos de ejemplo\n",
    "np.random.seed(1)\n",
    "x = np.random.multivariate_normal([0,0],[[1,0],[0,1]],50)\n",
    "y = np.zeros([50,1])\n",
    "for i in range(x.shape[0]):\n",
    "    if x[i,0] >= 0:\n",
    "        y[i] = int(1)\n",
    "    else:\n",
    "        y[i] = int(2)\n",
    "\n",
    "m = x.shape[1]\n",
    "_, distances = NearestNeighbors(n_neighbors=5, algorithm='auto').fit(x).kneighbors(x)\n",
    "sigma_ = np.mean(distances[:, -1])\n",
    "\n",
    "\n",
    "xtr = x[:25,:]\n",
    "xte = x[25:,:]\n",
    "ytr = y[:25]\n",
    "yte = y[25:]\n",
    "\n",
    "print(\"The sigma value is,\", sigma_)\n",
    "\n",
    "print(\"The training samples are,\")\n",
    "print(np.concatenate((xtr,ytr), axis=1))"
   ]
  },
  {
   "cell_type": "code",
   "execution_count": null,
   "metadata": {},
   "outputs": [],
   "source": [
    "class Mdl:\n",
    "    def __init__(self,bias,feature_map,labels,lambda0,loss,sigma,D):\n",
    "        self.bias = bias\n",
    "        self.feature_map = feature_map\n",
    "        self.labels = labels\n",
    "        self.lambda0 = lambda0 \n",
    "        self.loss = loss\n",
    "        self.sigma_ = sigma\n",
    "        self.D = D\n",
    "\n",
    "Prueba1 = Mdl('bias','linear',2,0.3,'0-1',sigma_,1)\n",
    "\n",
    "Prueba1 = DWGCS.DWKMM(Prueba1,xtr,xte)\n",
    "print(\"The beta weights are,\")\n",
    "print(Prueba1.beta_)\n",
    "print(\"The alpha weights are,\")\n",
    "print(Prueba1.alpha_)\n",
    "print(\"The optimization value of the DW-KMM is\", Prueba1.min_DWKMM)"
   ]
  },
  {
   "cell_type": "code",
   "execution_count": null,
   "metadata": {},
   "outputs": [],
   "source": [
    "Prueba1 = DWGCS.parameters(Prueba1,xtr,ytr,xte)\n",
    "\n",
    "print(\"El vector tau es,\")\n",
    "print( Prueba1.tau_)\n",
    "print(\"El vector lambda es,\")\n",
    "print( Prueba1.lambda_)"
   ]
  },
  {
   "cell_type": "code",
   "execution_count": null,
   "metadata": {},
   "outputs": [],
   "source": [
    "Prueba1 = DWGCS.learning(Prueba1,xte)\n",
    "\n",
    "print(\"El vector mu es,\")\n",
    "print( np.ravel(Prueba1.mu_))\n",
    "print(\"The optimization value of the DW-GCS is\", Prueba1.RU)"
   ]
  },
  {
   "cell_type": "code",
   "execution_count": null,
   "metadata": {},
   "outputs": [],
   "source": [
    "Prueba1 = DWGCS.prediction(Prueba1,xte,yte)\n",
    "\n",
    "print(\"El error de clasificación es\",)\n",
    "print( Prueba1.error)\n",
    "print(\"The classification rule h is\",)\n",
    "print( Prueba1.h)"
   ]
  }
 ],
 "metadata": {
  "kernelspec": {
   "display_name": "CovariateShift",
   "language": "python",
   "name": "python3"
  },
  "language_info": {
   "codemirror_mode": {
    "name": "ipython",
    "version": 3
   },
   "file_extension": ".py",
   "mimetype": "text/x-python",
   "name": "python",
   "nbconvert_exporter": "python",
   "pygments_lexer": "ipython3",
   "version": "3.8.16"
  },
  "orig_nbformat": 4
 },
 "nbformat": 4,
 "nbformat_minor": 2
}
