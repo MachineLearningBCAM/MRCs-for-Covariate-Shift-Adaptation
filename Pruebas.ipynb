{
 "cells": [
  {
   "cell_type": "code",
   "execution_count": 1,
   "metadata": {},
   "outputs": [
    {
     "name": "stdout",
     "output_type": "stream",
     "text": [
      "The training samples are,\n",
      "[[0.39765399 0.18269515 0.56140212]\n",
      " [0.49877848 0.13222659 0.19466994]\n",
      " [0.3621351  0.34982536 0.47848017]\n",
      " [0.69857544 0.74249732 0.68810539]\n",
      " [0.0810347  0.05579363 0.5543034 ]]\n"
     ]
    }
   ],
   "source": [
    "import numpy as np\n",
    "from Auxiliary_Functions.phi import phi \n",
    "from Weight_Functions.DWKMM import DWKMM\n",
    "from UncertaintySet_Functions.DWGCS_parameters import DWGCS_parameters \n",
    "# Datos de ejemplo\n",
    "xtr = np.random.rand(5, 3)  # Ejemplo de datos de entrenamiento (5 filas, 3 columnas)\n",
    "xte = np.random.rand(3, 3)  # Ejemplo de datos de prueba (3 filas, 3 columnas)\n",
    "ytr = np.array([[1],[2],[1],[1],[2]]) \n",
    "\n",
    "print(\"The training samples are,\")\n",
    "print(xtr)"
   ]
  },
  {
   "cell_type": "code",
   "execution_count": 2,
   "metadata": {},
   "outputs": [
    {
     "name": "stdout",
     "output_type": "stream",
     "text": [
      "The beta weights are,\n",
      "[5.86742584e-09 1.71065660e+00 5.31822307e-09 6.46321274e-08\n",
      " 5.25411300e-01]\n",
      "The alpha weights are,\n",
      "[1. 1. 1.]\n",
      "The optimization value of the DW-KMM is 1.772263289243987\n"
     ]
    }
   ],
   "source": [
    "class Mdl:\n",
    "    def __init__(self,bias,feature_map,labels,lambda0,sigma,D):\n",
    "        self.bias = bias\n",
    "        self.feature_map = feature_map\n",
    "        self.labels = labels\n",
    "        self.lambda0 = lambda0 \n",
    "        self.sigma_ = sigma\n",
    "        self.D = D\n",
    "\n",
    "DWGCS = Mdl('bias','linear',2,0.3,1,1)\n",
    "\n",
    "DWGCS = DWKMM(DWGCS,xtr,xte)\n",
    "print(\"The beta weights are,\")\n",
    "print(DWGCS.beta_)\n",
    "print(\"The alpha weights are,\")\n",
    "print(DWGCS.alpha_)\n",
    "print(\"The optimization value of the DW-KMM is\", DWGCS.min_DWKMM)"
   ]
  },
  {
   "cell_type": "code",
   "execution_count": 3,
   "metadata": {},
   "outputs": [
    {
     "name": "stdout",
     "output_type": "stream",
     "text": [
      "El vector tau es,\n",
      "[1.51635553e-08 9.88190742e-09 1.01843161e-08 1.00624729e-08\n",
      " 4.47213580e-01 1.79163049e-01 5.11017778e-02 1.24850137e-01]\n",
      "El vector lambda es,\n",
      "[0.51979371 0.51979372 0.51979372 0.51979372 0.07258015 0.34063068\n",
      " 0.46869195 0.39494359]\n"
     ]
    }
   ],
   "source": [
    "DWGCS = DWGCS_parameters(DWGCS,xtr,ytr,xte)\n",
    "\n",
    "print(\"El vector tau es,\")\n",
    "print( DWGCS.tau_)\n",
    "print(\"El vector lambda es,\")\n",
    "print( DWGCS.lambda_)"
   ]
  }
 ],
 "metadata": {
  "kernelspec": {
   "display_name": "CovariateShift",
   "language": "python",
   "name": "python3"
  },
  "language_info": {
   "codemirror_mode": {
    "name": "ipython",
    "version": 3
   },
   "file_extension": ".py",
   "mimetype": "text/x-python",
   "name": "python",
   "nbconvert_exporter": "python",
   "pygments_lexer": "ipython3",
   "version": "3.8.16"
  },
  "orig_nbformat": 4
 },
 "nbformat": 4,
 "nbformat_minor": 2
}
