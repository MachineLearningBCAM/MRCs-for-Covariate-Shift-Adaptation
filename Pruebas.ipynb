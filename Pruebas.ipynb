{
 "cells": [
  {
   "cell_type": "code",
   "execution_count": 22,
   "metadata": {},
   "outputs": [
    {
     "data": {
      "text/plain": [
       "array([[0.92682949, 0.69869113, 0.34196714],\n",
       "       [0.16376278, 0.5961899 , 0.38976835],\n",
       "       [0.64864664, 0.31696195, 0.75318867],\n",
       "       [0.55524499, 0.81674676, 0.8555065 ],\n",
       "       [0.89663274, 0.26217269, 0.34067472]])"
      ]
     },
     "execution_count": 22,
     "metadata": {},
     "output_type": "execute_result"
    }
   ],
   "source": [
    "import numpy as np\n",
    "from Auxiliary_Functions import phi\n",
    "\n",
    "# Datos de ejemplo\n",
    "xtr = np.random.rand(5, 3)  # Ejemplo de datos de entrenamiento (5 filas, 3 columnas)\n",
    "xte = np.random.rand(3, 3)  # Ejemplo de datos de prueba (3 filas, 3 columnas)\n",
    "ytr = np.array([[1],[2],[1],[1],[2]]) \n",
    "\n",
    "xtr"
   ]
  },
  {
   "cell_type": "code",
   "execution_count": 23,
   "metadata": {},
   "outputs": [],
   "source": [
    "class Mdl:\n",
    "    def __init__(self):\n",
    "        self.bias = 'bias'\n",
    "        self.kernel = 'linear'\n",
    "        self.deterministic = True\n",
    "        self.lambda0 = 0.3\n",
    "        self.labels = 2\n",
    "\n",
    "Mdl.beta = np.random.rand(5, 1)"
   ]
  },
  {
   "cell_type": "code",
   "execution_count": 24,
   "metadata": {},
   "outputs": [
    {
     "ename": "TypeError",
     "evalue": "'module' object is not callable",
     "output_type": "error",
     "traceback": [
      "\u001b[0;31m---------------------------------------------------------------------------\u001b[0m",
      "\u001b[0;31mTypeError\u001b[0m                                 Traceback (most recent call last)",
      "Cell \u001b[0;32mIn[24], line 7\u001b[0m\n\u001b[1;32m      4\u001b[0m t \u001b[39m=\u001b[39m xte\u001b[39m.\u001b[39mshape[\u001b[39m0\u001b[39m]\n\u001b[1;32m      6\u001b[0m \u001b[39mfor\u001b[39;00m i \u001b[39min\u001b[39;00m \u001b[39mrange\u001b[39m(n):\n\u001b[0;32m----> 7\u001b[0m     auxtau\u001b[39m.\u001b[39mappend(Mdl\u001b[39m.\u001b[39mbeta[i] \u001b[39m*\u001b[39m phi(Mdl, xtr[i, :], ytr[i]))\n\u001b[1;32m      9\u001b[0m auxtau \u001b[39m=\u001b[39m np\u001b[39m.\u001b[39marray(auxtau)\n",
      "\u001b[0;31mTypeError\u001b[0m: 'module' object is not callable"
     ]
    }
   ],
   "source": [
    "auxtau = []\n",
    "\n",
    "n = xtr.shape[0]\n",
    "t = xte.shape[0]\n",
    "\n",
    "for i in range(n):\n",
    "    auxtau.append(Mdl.beta[i] * phi(Mdl, xtr[i, :], ytr[i]))\n",
    "\n",
    "auxtau = np.array(auxtau)"
   ]
  }
 ],
 "metadata": {
  "kernelspec": {
   "display_name": "CovariateShift",
   "language": "python",
   "name": "python3"
  },
  "language_info": {
   "codemirror_mode": {
    "name": "ipython",
    "version": 3
   },
   "file_extension": ".py",
   "mimetype": "text/x-python",
   "name": "python",
   "nbconvert_exporter": "python",
   "pygments_lexer": "ipython3",
   "version": "3.8.16"
  },
  "orig_nbformat": 4
 },
 "nbformat": 4,
 "nbformat_minor": 2
}
