{
 "cells": [
  {
   "cell_type": "code",
   "execution_count": null,
   "metadata": {},
   "outputs": [],
   "source": [
    "import numpy as np\n",
    "from Auxiliary_Functions import phi\n",
    "\n",
    "# Datos de ejemplo\n",
    "x_tr = np.random.rand(5, 3)  # Ejemplo de datos de entrenamiento (5 filas, 3 columnas)\n",
    "x_ts = np.random.rand(3, 3)  # Ejemplo de datos de prueba (3 filas, 3 columnas)\n",
    "y_tr = np.random.rand(5)     # Ejemplo de etiquetas de entrenamiento (5 elementos)\n",
    "Mdl = np.random.rand(5)      # Ejemplo de modelo (5 elementos)"
   ]
  },
  {
   "cell_type": "code",
   "execution_count": null,
   "metadata": {},
   "outputs": [],
   "source": [
    "auxtau = []\n",
    "\n",
    "n = x_tr.shape[0]\n",
    "t = x_ts.shape[0]\n",
    "\n",
    "for i in range(n):\n",
    "    auxtau.append(Mdl[i] * phi(Mdl, x_tr[i, :], y_tr[i]))\n",
    "\n",
    "auxtau = np.array(auxtau)"
   ]
  }
 ],
 "metadata": {
  "language_info": {
   "name": "python"
  },
  "orig_nbformat": 4
 },
 "nbformat": 4,
 "nbformat_minor": 2
}
