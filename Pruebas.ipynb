{
 "cells": [
  {
   "cell_type": "code",
   "execution_count": 1,
   "metadata": {},
   "outputs": [
    {
     "name": "stdout",
     "output_type": "stream",
     "text": [
      "The training samples are,\n",
      "[[0.75154796 0.3860992  0.21586961]\n",
      " [0.30449419 0.59561448 0.502205  ]\n",
      " [0.92978532 0.84679605 0.39813308]\n",
      " [0.30753691 0.82140022 0.15427817]\n",
      " [0.4506343  0.16498549 0.93883529]]\n"
     ]
    }
   ],
   "source": [
    "import numpy as np\n",
    "from Auxiliary_Functions.phi import phi \n",
    "from DWGCS.DWGCS import DWGCS\n",
    "# Datos de ejemplo\n",
    "xtr = np.random.rand(5, 3)  # Ejemplo de datos de entrenamiento (5 filas, 3 columnas)\n",
    "xte = np.random.rand(3, 3)  # Ejemplo de datos de prueba (3 filas, 3 columnas)\n",
    "ytr = np.array([[1],[2],[1],[1],[2]]) \n",
    "\n",
    "print(\"The training samples are,\")\n",
    "print(xtr)"
   ]
  },
  {
   "cell_type": "code",
   "execution_count": 2,
   "metadata": {},
   "outputs": [
    {
     "name": "stdout",
     "output_type": "stream",
     "text": [
      "The beta weights are,\n",
      "[2.92698329e-01 1.14637331e-08 1.94336948e+00 8.92798998e-08\n",
      " 6.11724910e-08]\n",
      "The alpha weights are,\n",
      "[1. 1. 1.]\n",
      "The optimization value of the DW-KMM is 1.7217321563977177\n"
     ]
    }
   ],
   "source": [
    "class Mdl:\n",
    "    def __init__(self,bias,feature_map,labels,lambda0,sigma,D):\n",
    "        self.bias = bias\n",
    "        self.feature_map = feature_map\n",
    "        self.labels = labels\n",
    "        self.lambda0 = lambda0 \n",
    "        self.sigma_ = sigma\n",
    "        self.D = D\n",
    "\n",
    "Prueba1 = Mdl('bias','linear',2,0.3,1,1)\n",
    "\n",
    "Prueba1 = DWGCS.DWKMM(Prueba1,xtr,xte)\n",
    "print(\"The beta weights are,\")\n",
    "print(Prueba1.beta_)\n",
    "print(\"The alpha weights are,\")\n",
    "print(Prueba1.alpha_)\n",
    "print(\"The optimization value of the DW-KMM is\", Prueba1.min_DWKMM)"
   ]
  },
  {
   "cell_type": "code",
   "execution_count": 3,
   "metadata": {},
   "outputs": [
    {
     "name": "stdout",
     "output_type": "stream",
     "text": [
      "El vector tau es,\n",
      "[4.47213580e-01 4.05378656e-01 3.51729654e-01 1.67380875e-01\n",
      " 1.45272448e-08 6.21141260e-09 3.38410772e-09 1.26376075e-08]\n",
      "El vector lambda es,\n",
      "[0.12824583 0.0864109  0.12853281 0.31288158 0.48026244 0.48026245\n",
      " 0.48026246 0.48026245]\n"
     ]
    }
   ],
   "source": [
    "Prueba1 = DWGCS.parameters(Prueba1,xtr,ytr,xte)\n",
    "\n",
    "print(\"El vector tau es,\")\n",
    "print( Prueba1.tau_)\n",
    "print(\"El vector lambda es,\")\n",
    "print( Prueba1.lambda_)"
   ]
  }
 ],
 "metadata": {
  "kernelspec": {
   "display_name": "CovariateShift",
   "language": "python",
   "name": "python3"
  },
  "language_info": {
   "codemirror_mode": {
    "name": "ipython",
    "version": 3
   },
   "file_extension": ".py",
   "mimetype": "text/x-python",
   "name": "python",
   "nbconvert_exporter": "python",
   "pygments_lexer": "ipython3",
   "version": "3.8.16"
  },
  "orig_nbformat": 4
 },
 "nbformat": 4,
 "nbformat_minor": 2
}
