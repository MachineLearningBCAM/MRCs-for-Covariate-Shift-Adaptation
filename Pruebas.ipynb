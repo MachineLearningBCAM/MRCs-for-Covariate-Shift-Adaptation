{
 "cells": [
  {
   "cell_type": "code",
   "execution_count": 1,
   "metadata": {},
   "outputs": [
    {
     "name": "stdout",
     "output_type": "stream",
     "text": [
      "The training samples are,\n",
      "[[0.00571509 0.06377293 0.95363427]\n",
      " [0.90435943 0.20421178 0.18975671]\n",
      " [0.38307613 0.08624906 0.72786834]\n",
      " [0.18881069 0.92398051 0.96326307]\n",
      " [0.86637624 0.41733855 0.28468329]]\n"
     ]
    }
   ],
   "source": [
    "import numpy as np\n",
    "from Auxiliary_Functions.phi import phi \n",
    "from Weight_Functions.DWKMM import DWKMM\n",
    "from UncertaintySet_Functions.DWGCS_parameters import DWGCS_parameters \n",
    "# Datos de ejemplo\n",
    "xtr = np.random.rand(5, 3)  # Ejemplo de datos de entrenamiento (5 filas, 3 columnas)\n",
    "xte = np.random.rand(3, 3)  # Ejemplo de datos de prueba (3 filas, 3 columnas)\n",
    "ytr = np.array([[1],[2],[1],[1],[2]]) \n",
    "\n",
    "print(\"The training samples are,\")\n",
    "print(xtr)"
   ]
  },
  {
   "cell_type": "code",
   "execution_count": 2,
   "metadata": {},
   "outputs": [
    {
     "name": "stdout",
     "output_type": "stream",
     "text": [
      "The beta weights are,\n",
      "[[1.13675136e+00]\n",
      " [1.09931655e+00]\n",
      " [1.25796824e-08]\n",
      " [2.95674934e-08]\n",
      " [2.26438258e-08]]\n",
      "The alpha weights are,\n",
      "[[1.]\n",
      " [1.]\n",
      " [1.]]\n",
      "The optimization value of the DW-KMM is 1.5163960887322627\n"
     ]
    }
   ],
   "source": [
    "class Mdl:\n",
    "    def __init__(self,bias,feature_map,labels,lambda0,sigma,D):\n",
    "        self.bias = bias\n",
    "        self.feature_map = feature_map\n",
    "        self.labels = labels\n",
    "        self.lambda0 = lambda0 \n",
    "        self.sigma = sigma\n",
    "        self.D = D\n",
    "\n",
    "DWGCS = Mdl('bias','linear',2,0.3,1,1)\n",
    "\n",
    "DWGCS = DWKMM(DWGCS,xtr,xte)\n",
    "print(\"The beta weights are,\")\n",
    "print(DWGCS.beta)\n",
    "print(\"The alpha weights are,\")\n",
    "print(DWGCS.alpha)\n",
    "print(\"The optimization value of the DW-KMM is\", DWGCS.min_DWKMM)"
   ]
  },
  {
   "cell_type": "code",
   "execution_count": 3,
   "metadata": {},
   "outputs": [
    {
     "name": "stdout",
     "output_type": "stream",
     "text": [
      "El vector tau es,\n",
      "[[0.22735028 0.00129933 0.0144988  0.21680902 0.21986331 0.19883546\n",
      "  0.04489868 0.04172054]]\n"
     ]
    }
   ],
   "source": [
    "DWGCS = DWGCS_parameters(DWGCS,xtr,ytr,xte)\n",
    "\n",
    "print(\"El vector tau es,\")\n",
    "print( DWGCS.tau)"
   ]
  }
 ],
 "metadata": {
  "kernelspec": {
   "display_name": "CovariateShift",
   "language": "python",
   "name": "python3"
  },
  "language_info": {
   "codemirror_mode": {
    "name": "ipython",
    "version": 3
   },
   "file_extension": ".py",
   "mimetype": "text/x-python",
   "name": "python",
   "nbconvert_exporter": "python",
   "pygments_lexer": "ipython3",
   "version": "3.8.16"
  },
  "orig_nbformat": 4
 },
 "nbformat": 4,
 "nbformat_minor": 2
}
