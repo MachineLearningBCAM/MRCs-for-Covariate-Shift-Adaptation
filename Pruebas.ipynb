{
 "cells": [
  {
   "cell_type": "code",
   "execution_count": 1,
   "metadata": {},
   "outputs": [
    {
     "name": "stdout",
     "output_type": "stream",
     "text": [
      "The training samples are,\n",
      "[[9.56377466e-02 9.34607528e-01 3.96227247e-01]\n",
      " [7.05163307e-01 2.08612006e-01 2.85484076e-04]\n",
      " [2.36044290e-01 2.08076131e-01 7.02590911e-01]\n",
      " [8.17232645e-01 5.85897100e-01 5.92498494e-01]\n",
      " [6.38545688e-02 9.25343018e-01 3.71978531e-01]]\n"
     ]
    }
   ],
   "source": [
    "import numpy as np\n",
    "from Auxiliary_Functions.phi import phi \n",
    "from DWGCS.DWGCS import DWGCS\n",
    "# Datos de ejemplo\n",
    "xtr = np.random.rand(5, 3)  # Ejemplo de datos de entrenamiento (5 filas, 3 columnas)\n",
    "xte = np.random.rand(3, 3)  # Ejemplo de datos de prueba (3 filas, 3 columnas)\n",
    "ytr = np.array([[1],[2],[1],[1],[2]]) \n",
    "\n",
    "print(\"The training samples are,\")\n",
    "print(xtr)"
   ]
  },
  {
   "cell_type": "code",
   "execution_count": 2,
   "metadata": {},
   "outputs": [
    {
     "name": "stdout",
     "output_type": "stream",
     "text": [
      "The beta weights are,\n",
      "[1.01765578e-07 1.59263987e+00 1.78119257e-08 2.69724894e-08\n",
      " 6.43427962e-01]\n",
      "The alpha weights are,\n",
      "[1. 1. 1.]\n",
      "The optimization value of the DW-KMM is 1.568405361784472\n"
     ]
    }
   ],
   "source": [
    "class Mdl:\n",
    "    def __init__(self,bias,feature_map,labels,lambda0,loss,sigma,D):\n",
    "        self.bias = bias\n",
    "        self.feature_map = feature_map\n",
    "        self.labels = labels\n",
    "        self.lambda0 = lambda0 \n",
    "        self.loss = loss\n",
    "        self.sigma_ = sigma\n",
    "        self.D = D\n",
    "\n",
    "Prueba1 = Mdl('bias','linear',2,0.3,'0-1',1,1)\n",
    "\n",
    "Prueba1 = DWGCS.DWKMM(Prueba1,xtr,xte)\n",
    "print(\"The beta weights are,\")\n",
    "print(Prueba1.beta_)\n",
    "print(\"The alpha weights are,\")\n",
    "print(Prueba1.alpha_)\n",
    "print(\"The optimization value of the DW-KMM is\", Prueba1.min_DWKMM)"
   ]
  },
  {
   "cell_type": "code",
   "execution_count": 3,
   "metadata": {},
   "outputs": [
    {
     "name": "stdout",
     "output_type": "stream",
     "text": [
      "El vector tau es,\n",
      "[2.93099986e-08 7.19596655e-09 2.29240430e-08 1.37635902e-08\n",
      " 4.47213566e-01 2.32831402e-01 1.85527074e-01 4.79592123e-02]\n",
      "El vector lambda es,\n",
      "[0.60783144 0.60783146 0.60783145 0.60783146 0.17502199 0.37500007\n",
      " 0.4223044  0.55987226]\n"
     ]
    }
   ],
   "source": [
    "Prueba1 = DWGCS.parameters(Prueba1,xtr,ytr,xte)\n",
    "\n",
    "print(\"El vector tau es,\")\n",
    "print( Prueba1.tau_)\n",
    "print(\"El vector lambda es,\")\n",
    "print( Prueba1.lambda_)"
   ]
  },
  {
   "cell_type": "code",
   "execution_count": 4,
   "metadata": {},
   "outputs": [
    {
     "name": "stdout",
     "output_type": "stream",
     "text": [
      "El vector mu es,\n",
      "[-1.17748076e-11 -1.42241463e-12 -2.33266198e-12 -1.74783612e-12\n",
      " -2.53640418e-11  2.24250147e-12 -8.23681866e-13 -1.24004279e-12]\n",
      "The optimization value of the DW-GCS is 0.5000000000088614\n"
     ]
    }
   ],
   "source": [
    "Prueba1 = DWGCS.learning(Prueba1,xte)\n",
    "\n",
    "print(\"El vector mu es,\")\n",
    "print( np.ravel(Prueba1.mu_))\n",
    "print(\"The optimization value of the DW-GCS is\", Prueba1.RU)"
   ]
  }
 ],
 "metadata": {
  "kernelspec": {
   "display_name": "CovariateShift",
   "language": "python",
   "name": "python3"
  },
  "language_info": {
   "codemirror_mode": {
    "name": "ipython",
    "version": 3
   },
   "file_extension": ".py",
   "mimetype": "text/x-python",
   "name": "python",
   "nbconvert_exporter": "python",
   "pygments_lexer": "ipython3",
   "version": "3.8.16"
  },
  "orig_nbformat": 4
 },
 "nbformat": 4,
 "nbformat_minor": 2
}
