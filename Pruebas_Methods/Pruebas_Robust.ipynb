{
 "cells": [
  {
   "cell_type": "code",
   "execution_count": 1,
   "metadata": {},
   "outputs": [
    {
     "name": "stdout",
     "output_type": "stream",
     "text": [
      "The sigma value is, 26.6\n"
     ]
    }
   ],
   "source": [
    "import numpy as np\n",
    "from sklearn.neighbors import NearestNeighbors\n",
    "import sys\n",
    "sys.path.append('../Auxiliary_Functions/')\n",
    "from phi import phi\n",
    "sys.path.append('../Robust/')\n",
    "from Robust import Robust\n",
    "# Datos de ejemplo\n",
    "# np.random.seed(1)\n",
    "# x = np.random.multivariate_normal([0,0],[[1,0],[0,1]],50)\n",
    "# y = np.zeros([50,1])\n",
    "# for i in range(x.shape[0]):\n",
    "#    if x[i,0] >= 0:\n",
    "#        y[i] = int(1)\n",
    "#    else:\n",
    "#        y[i] = int(2)\n",
    "#x = (x-np.mean(x,axis=0))/np.std(x,axis=0)\n",
    "# m = x.shape[1]\n",
    "# _, distances = NearestNeighbors(n_neighbors=5, algorithm='auto').fit(x).kneighbors(x)\n",
    "# sigma_ = np.mean(distances[:, -1])\n",
    "\n",
    "# np.savetxt('synthetic_trial.csv', np.concatenate((x,y), axis=1), delimiter=',')\n",
    "\n",
    "data = np.genfromtxt('../synthetic_trial.csv', delimiter=',') \n",
    "\n",
    "xtr = data[:25,:2]\n",
    "xte = data[25:,:2]\n",
    "ytr = data[:25,2:].astype(int)\n",
    "yte = data[25:,2:].astype(int)\n",
    "m = xtr.shape[1]\n",
    "sigma_ = 26.6\n",
    "\n",
    "print(\"The sigma value is,\", sigma_)\n",
    "\n",
    "#print(\"The training samples are,\")\n",
    "#print(np.concatenate((xtr,ytr), axis=1))"
   ]
  },
  {
   "cell_type": "code",
   "execution_count": 2,
   "metadata": {},
   "outputs": [
    {
     "name": "stdout",
     "output_type": "stream",
     "text": [
      "The alpha weights for training are,\n",
      "[[0.7651604  0.62013401 0.35640214 0.71527568 0.90029038 0.39766579\n",
      "  0.84669313 0.61348308 0.67747743 1.31086865 1.68808602 1.26505664\n",
      "  0.74023677 0.66000989 1.27983696 0.84159139 0.68725157 1.00107732\n",
      "  1.11888227 1.41053388 0.67448272 2.16265817 0.75549756 2.6021804\n",
      "  1.3314788 ]]\n",
      "The alpha weights for testing are,\n",
      "[[0.85939071 0.85948992 1.31285196 1.53525687 1.50301691 1.77311773\n",
      "  0.88083201 0.973965   2.00351931 0.53701623 0.80111815 1.49678086\n",
      "  0.4041556  1.46397709 1.42162653 0.91986736 1.21259198 1.06320187\n",
      "  1.19407439 1.67820621 1.0963643  0.75463865 1.04356976 1.02712734\n",
      "  1.3801495 ]]\n"
     ]
    }
   ],
   "source": [
    "class Mdl:\n",
    "    def __init__(self,intercep,deterministic,feature_map,labels,lambda0,loss,sigma):\n",
    "        self.intercep = intercep\n",
    "        self.deterministic = deterministic\n",
    "        self.feature_map = feature_map\n",
    "        self.labels = labels\n",
    "        self.lambda0 = lambda0 \n",
    "        self.loss = loss\n",
    "        self.sigma_ = sigma\n",
    "\n",
    "Prueba1 = Mdl(False,True,'linear',2,0.3,'0-1',sigma_)\n",
    "\n",
    "Prueba1 = Robust.LREIW(Prueba1,xtr,xte)\n",
    "\n",
    "print(\"The alpha weights for training are,\")\n",
    "print(Prueba1.alpha_tr_.T)\n",
    "print(\"The alpha weights for testing are,\")\n",
    "print(Prueba1.alpha_.T)"
   ]
  },
  {
   "cell_type": "code",
   "execution_count": 3,
   "metadata": {},
   "outputs": [
    {
     "name": "stdout",
     "output_type": "stream",
     "text": [
      "El vector tau es,\n",
      "[ 0.45453698 -0.15402685 -0.40760802 -0.06814355]\n",
      "El vector lambda es,\n",
      "[[0.04232385 0.05366596 0.0305373  0.03793817]]\n"
     ]
    }
   ],
   "source": [
    "Prueba1 = Robust.parameters(Prueba1,xtr,ytr)\n",
    "\n",
    "print(\"El vector tau es,\")\n",
    "print( Prueba1.tau_)\n",
    "print(\"El vector lambda es,\")\n",
    "print( Prueba1.lambda_)"
   ]
  },
  {
   "cell_type": "code",
   "execution_count": 4,
   "metadata": {},
   "outputs": [
    {
     "name": "stdout",
     "output_type": "stream",
     "text": [
      "El vector mu es,\n",
      "[ 6.67018181e-11  4.78951324e-11 -3.41397034e+00 -1.05304719e-01]\n",
      "The value of the MRC optimization problem is 0.19579616512471965\n"
     ]
    }
   ],
   "source": [
    "Prueba1 = Robust.learning(Prueba1,xtr)\n",
    "\n",
    "print(\"El vector mu es,\")\n",
    "print( np.ravel(Prueba1.mu_))\n",
    "print(\"The value of the MRC optimization problem is\", Prueba1.RU)"
   ]
  },
  {
   "cell_type": "code",
   "execution_count": 5,
   "metadata": {},
   "outputs": [
    {
     "name": "stdout",
     "output_type": "stream",
     "text": [
      "El error de clasificación es\n",
      "0.0\n"
     ]
    }
   ],
   "source": [
    "Prueba1 = Robust.prediction(Prueba1,xte,yte)\n",
    "\n",
    "print(\"El error de clasificación es\",)\n",
    "print( Prueba1.error)"
   ]
  }
 ],
 "metadata": {
  "kernelspec": {
   "display_name": "CovariateShift",
   "language": "python",
   "name": "python3"
  },
  "language_info": {
   "codemirror_mode": {
    "name": "ipython",
    "version": 3
   },
   "file_extension": ".py",
   "mimetype": "text/x-python",
   "name": "python",
   "nbconvert_exporter": "python",
   "pygments_lexer": "ipython3",
   "version": "3.8.16"
  },
  "orig_nbformat": 4
 },
 "nbformat": 4,
 "nbformat_minor": 2
}
