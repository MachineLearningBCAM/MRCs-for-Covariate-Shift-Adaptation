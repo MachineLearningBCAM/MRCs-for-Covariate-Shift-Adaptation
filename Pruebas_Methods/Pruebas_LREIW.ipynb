{
 "cells": [
  {
   "cell_type": "code",
   "execution_count": 12,
   "metadata": {},
   "outputs": [
    {
     "name": "stdout",
     "output_type": "stream",
     "text": [
      "The sigma value is, 26.6\n"
     ]
    }
   ],
   "source": [
    "import numpy as np\n",
    "from sklearn.neighbors import NearestNeighbors\n",
    "import sys\n",
    "sys.path.append('../Auxiliary_Functions/')\n",
    "from phi import phi\n",
    "sys.path.append('../Reweighted/')\n",
    "from Reweighted import Reweighted\n",
    "# Datos de ejemplo\n",
    "# np.random.seed(1)\n",
    "# x = np.random.multivariate_normal([0,0],[[1,0],[0,1]],50)\n",
    "# y = np.zeros([50,1])\n",
    "# for i in range(x.shape[0]):\n",
    "#    if x[i,0] >= 0:\n",
    "#        y[i] = int(1)\n",
    "#    else:\n",
    "#        y[i] = int(2)\n",
    "#x = (x-np.mean(x,axis=0))/np.std(x,axis=0)\n",
    "# m = x.shape[1]\n",
    "# _, distances = NearestNeighbors(n_neighbors=5, algorithm='auto').fit(x).kneighbors(x)\n",
    "# sigma_ = np.mean(distances[:, -1])\n",
    "\n",
    "# np.savetxt('synthetic_trial.csv', np.concatenate((x,y), axis=1), delimiter=',')\n",
    "\n",
    "data = np.genfromtxt('../synthetic_trial.csv', delimiter=',') \n",
    "\n",
    "xtr = data[:25,:2]\n",
    "xte = data[25:,:2]\n",
    "ytr = data[:25,2:].astype(int)\n",
    "yte = data[25:,2:].astype(int)\n",
    "m = xtr.shape[1]\n",
    "sigma_ = 26.6\n",
    "\n",
    "print(\"The sigma value is,\", sigma_)\n",
    "\n",
    "#print(\"The training samples are,\")\n",
    "#print(np.concatenate((xtr,ytr), axis=1))"
   ]
  },
  {
   "cell_type": "code",
   "execution_count": 13,
   "metadata": {},
   "outputs": [
    {
     "name": "stdout",
     "output_type": "stream",
     "text": [
      "The beta weights are,\n",
      "[[1.30691551 1.61255468 2.80581928 1.39806235 1.11075274 2.51467447\n",
      "  1.18106544 1.63003679 1.47606394 0.76285294 0.59238687 0.79047844\n",
      "  1.35091911 1.51512882 0.78134952 1.18822509 1.45507124 0.99892384\n",
      "  0.89374908 0.70895142 1.48261766 0.46239393 1.32363102 0.38429311\n",
      "  0.75104463]]\n"
     ]
    }
   ],
   "source": [
    "class Mdl:\n",
    "    def __init__(self,intercep,deterministic,feature_map,labels,lambda0,loss,sigma):\n",
    "        self.intercep = intercep\n",
    "        self.deterministic = deterministic\n",
    "        self.feature_map = feature_map\n",
    "        self.labels = labels\n",
    "        self.lambda0 = lambda0 \n",
    "        self.loss = loss\n",
    "        self.sigma_ = sigma\n",
    "\n",
    "Prueba1 = Mdl(False,True,'linear',2,0.3,'0-1',sigma_)\n",
    "\n",
    "Prueba1 = Reweighted.LREIW(Prueba1,xtr,xte)\n",
    "print(\"The beta weights are,\")\n",
    "print(Prueba1.beta_.T)"
   ]
  },
  {
   "cell_type": "code",
   "execution_count": 14,
   "metadata": {},
   "outputs": [
    {
     "name": "stdout",
     "output_type": "stream",
     "text": [
      "El vector tau es,\n",
      "[ 0.68583646 -0.60944121 -0.42042947 -0.23737521]\n",
      "El vector lambda es,\n",
      "[0.06872693 0.10385631 0.03053692 0.04017239]\n"
     ]
    }
   ],
   "source": [
    "Prueba1 = Reweighted.parameters(Prueba1,xtr,ytr)\n",
    "\n",
    "print(\"El vector tau es,\")\n",
    "print( Prueba1.tau_)\n",
    "print(\"El vector lambda es,\")\n",
    "print( Prueba1.lambda_)"
   ]
  },
  {
   "cell_type": "code",
   "execution_count": 15,
   "metadata": {},
   "outputs": [
    {
     "name": "stdout",
     "output_type": "stream",
     "text": [
      "El vector mu es,\n",
      "[ 1.09618332e-14  5.15956147e-15 -1.91280924e+00 -2.95978118e-01]\n",
      "The value of the MRC optimization problem using weights beta obtained using KMM is 0.15815551923571247\n"
     ]
    }
   ],
   "source": [
    "Prueba1 = Reweighted.learning(Prueba1,xtr)\n",
    "\n",
    "print(\"El vector mu es,\")\n",
    "print( np.ravel(Prueba1.mu_))\n",
    "print(\"The value of the MRC optimization problem using weights beta obtained using KMM is\", Prueba1.RU)"
   ]
  },
  {
   "cell_type": "code",
   "execution_count": 16,
   "metadata": {},
   "outputs": [
    {
     "name": "stdout",
     "output_type": "stream",
     "text": [
      "El error de clasificación es\n",
      "0.04\n"
     ]
    }
   ],
   "source": [
    "Prueba1 = Reweighted.prediction(Prueba1,xte,yte)\n",
    "\n",
    "print(\"El error de clasificación es\",)\n",
    "print( Prueba1.error)"
   ]
  }
 ],
 "metadata": {
  "kernelspec": {
   "display_name": "CovariateShift",
   "language": "python",
   "name": "python3"
  },
  "language_info": {
   "codemirror_mode": {
    "name": "ipython",
    "version": 3
   },
   "file_extension": ".py",
   "mimetype": "text/x-python",
   "name": "python",
   "nbconvert_exporter": "python",
   "pygments_lexer": "ipython3",
   "version": "3.8.16"
  },
  "orig_nbformat": 4
 },
 "nbformat": 4,
 "nbformat_minor": 2
}
