{
 "cells": [
  {
   "cell_type": "code",
   "execution_count": 1,
   "metadata": {},
   "outputs": [
    {
     "ename": "ModuleNotFoundError",
     "evalue": "No module named 'Auxiliary_Functions'",
     "output_type": "error",
     "traceback": [
      "\u001b[0;31m---------------------------------------------------------------------------\u001b[0m",
      "\u001b[0;31mModuleNotFoundError\u001b[0m                       Traceback (most recent call last)",
      "Cell \u001b[0;32mIn[1], line 3\u001b[0m\n\u001b[1;32m      1\u001b[0m \u001b[39mimport\u001b[39;00m \u001b[39mnumpy\u001b[39;00m \u001b[39mas\u001b[39;00m \u001b[39mnp\u001b[39;00m\n\u001b[1;32m      2\u001b[0m \u001b[39mfrom\u001b[39;00m \u001b[39msklearn\u001b[39;00m\u001b[39m.\u001b[39;00m\u001b[39mneighbors\u001b[39;00m \u001b[39mimport\u001b[39;00m NearestNeighbors\n\u001b[0;32m----> 3\u001b[0m \u001b[39mfrom\u001b[39;00m \u001b[39mAuxiliary_Functions\u001b[39;00m\u001b[39m.\u001b[39;00m\u001b[39mphi\u001b[39;00m \u001b[39mimport\u001b[39;00m phi \n\u001b[1;32m      4\u001b[0m \u001b[39mfrom\u001b[39;00m \u001b[39mReweighted\u001b[39;00m\u001b[39m.\u001b[39;00m\u001b[39mReweighted\u001b[39;00m \u001b[39mimport\u001b[39;00m Reweighted\n\u001b[1;32m      5\u001b[0m \u001b[39m# Datos de ejemplo\u001b[39;00m\n\u001b[1;32m      6\u001b[0m \u001b[39m# np.random.seed(1)\u001b[39;00m\n\u001b[1;32m      7\u001b[0m \u001b[39m# x = np.random.multivariate_normal([0,0],[[1,0],[0,1]],50)\u001b[39;00m\n\u001b[0;32m   (...)\u001b[0m\n\u001b[1;32m     18\u001b[0m \n\u001b[1;32m     19\u001b[0m \u001b[39m# np.savetxt('synthetic_trial.csv', np.concatenate((x,y), axis=1), delimiter=',')\u001b[39;00m\n",
      "\u001b[0;31mModuleNotFoundError\u001b[0m: No module named 'Auxiliary_Functions'"
     ]
    }
   ],
   "source": [
    "import numpy as np\n",
    "from sklearn.neighbors import NearestNeighbors\n",
    "from Auxiliary_Functions.phi import phi \n",
    "from Reweighted.Reweighted import Reweighted\n",
    "# Datos de ejemplo\n",
    "# np.random.seed(1)\n",
    "# x = np.random.multivariate_normal([0,0],[[1,0],[0,1]],50)\n",
    "# y = np.zeros([50,1])\n",
    "# for i in range(x.shape[0]):\n",
    "#    if x[i,0] >= 0:\n",
    "#        y[i] = int(1)\n",
    "#    else:\n",
    "#        y[i] = int(2)\n",
    "#x = (x-np.mean(x,axis=0))/np.std(x,axis=0)\n",
    "# m = x.shape[1]\n",
    "# _, distances = NearestNeighbors(n_neighbors=5, algorithm='auto').fit(x).kneighbors(x)\n",
    "# sigma_ = np.mean(distances[:, -1])\n",
    "\n",
    "# np.savetxt('synthetic_trial.csv', np.concatenate((x,y), axis=1), delimiter=',')\n",
    "\n",
    "data = np.genfromtxt('synthetic_trial.csv', delimiter=',') \n",
    "\n",
    "xtr = data[:25,:2]\n",
    "xte = data[25:,:2]\n",
    "ytr = data[:25,2:].astype(int)\n",
    "yte = data[25:,2:].astype(int)\n",
    "m = xtr.shape[1]\n",
    "sigma_ = 26.6\n",
    "\n",
    "print(\"The sigma value is,\", sigma_)\n",
    "\n",
    "print(\"The training samples are,\")\n",
    "print(np.concatenate((xtr,ytr), axis=1))"
   ]
  },
  {
   "cell_type": "code",
   "execution_count": null,
   "metadata": {},
   "outputs": [],
   "source": [
    "class Mdl:\n",
    "    def __init__(self,intercep,deterministic,feature_map,labels,lambda0,loss,sigma):\n",
    "        self.intercep = intercep\n",
    "        self.deterministic = deterministic\n",
    "        self.feature_map = feature_map\n",
    "        self.labels = labels\n",
    "        self.lambda0 = lambda0 \n",
    "        self.loss = loss\n",
    "        self.sigma_ = sigma\n",
    "\n",
    "Prueba1 = Mdl(False,True,'linear',2,0.3,'0-1',sigma_)\n",
    "\n",
    "Prueba1 = Reweighted.LREIW(Prueba1,xtr,xte)\n",
    "print(\"The beta weights are,\")\n",
    "print(Prueba1.beta_)"
   ]
  },
  {
   "cell_type": "code",
   "execution_count": null,
   "metadata": {},
   "outputs": [],
   "source": [
    "Prueba1 = Reweighted.parameters(Prueba1,xtr,ytr)\n",
    "\n",
    "print(\"El vector tau es,\")\n",
    "print( Prueba1.tau_)\n",
    "print(\"El vector lambda es,\")\n",
    "print( Prueba1.lambda_)"
   ]
  },
  {
   "cell_type": "code",
   "execution_count": null,
   "metadata": {},
   "outputs": [],
   "source": [
    "Prueba1 = Reweighted.learning(Prueba1,xtr)\n",
    "\n",
    "print(\"El vector mu es,\")\n",
    "print( np.ravel(Prueba1.mu_))\n",
    "print(\"The value of the MRC optimization problem using weights beta obtained using KMM is\", Prueba1.RU)"
   ]
  },
  {
   "cell_type": "code",
   "execution_count": null,
   "metadata": {},
   "outputs": [],
   "source": [
    "Prueba1 = Reweighted.prediction(Prueba1,xte,yte)\n",
    "\n",
    "print(\"El error de clasificación es\",)\n",
    "print( Prueba1.error)"
   ]
  }
 ],
 "metadata": {
  "kernelspec": {
   "display_name": "CovariateShift",
   "language": "python",
   "name": "python3"
  },
  "language_info": {
   "codemirror_mode": {
    "name": "ipython",
    "version": 3
   },
   "file_extension": ".py",
   "mimetype": "text/x-python",
   "name": "python",
   "nbconvert_exporter": "python",
   "pygments_lexer": "ipython3",
   "version": "3.8.16"
  },
  "orig_nbformat": 4
 },
 "nbformat": 4,
 "nbformat_minor": 2
}
