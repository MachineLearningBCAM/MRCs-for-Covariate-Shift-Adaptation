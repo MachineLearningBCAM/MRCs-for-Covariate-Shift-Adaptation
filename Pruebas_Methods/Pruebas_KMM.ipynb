{
 "cells": [
  {
   "cell_type": "code",
   "execution_count": 1,
   "metadata": {},
   "outputs": [
    {
     "name": "stdout",
     "output_type": "stream",
     "text": [
      "The sigma value is, 26.6\n"
     ]
    }
   ],
   "source": [
    "import numpy as np\n",
    "from sklearn.neighbors import NearestNeighbors\n",
    "import sys\n",
    "sys.path.append('../Auxiliary_Functions/')\n",
    "from phi import phi\n",
    "sys.path.append('../Reweighted/')\n",
    "from Reweighted import Reweighted\n",
    "# Datos de ejemplo\n",
    "# np.random.seed(1)\n",
    "# x = np.random.multivariate_normal([0,0],[[1,0],[0,1]],50)\n",
    "# y = np.zeros([50,1])\n",
    "# for i in range(x.shape[0]):\n",
    "#    if x[i,0] >= 0:\n",
    "#        y[i] = int(1)\n",
    "#    else:\n",
    "#        y[i] = int(2)\n",
    "#x = (x-np.mean(x,axis=0))/np.std(x,axis=0)\n",
    "# m = x.shape[1]\n",
    "# _, distances = NearestNeighbors(n_neighbors=5, algorithm='auto').fit(x).kneighbors(x)\n",
    "# sigma_ = np.mean(distances[:, -1])\n",
    "\n",
    "# np.savetxt('synthetic_trial.csv', np.concatenate((x,y), axis=1), delimiter=',')\n",
    "\n",
    "data = np.genfromtxt('../synthetic_trial.csv', delimiter=',') \n",
    "\n",
    "xtr = data[:25,:2]\n",
    "xte = data[25:,:2]\n",
    "ytr = data[:25,2:].astype(int)\n",
    "yte = data[25:,2:].astype(int)\n",
    "m = xtr.shape[1]\n",
    "sigma_ = 26.6\n",
    "\n",
    "print(\"The sigma value is,\", sigma_)\n",
    "\n",
    "#print(\"The training samples are,\")\n",
    "#print(np.concatenate((xtr,ytr), axis=1))"
   ]
  },
  {
   "cell_type": "code",
   "execution_count": 2,
   "metadata": {},
   "outputs": [
    {
     "name": "stdout",
     "output_type": "stream",
     "text": [
      "The beta weights are,\n",
      "[[0.47333497 0.48342566 0.2176083  0.41500316 0.99407732 0.22694316\n",
      "  0.89867982 0.38541998 0.55485796 2.88401943 0.83799069 2.32397662\n",
      "  0.54866009 0.52650531 2.2215274  0.85854705 0.57881704 1.22428237\n",
      "  1.10283165 1.41470482 0.55109548 0.70207404 0.67631675 0.80689083\n",
      "  3.0923068 ]]\n",
      "The optimization value of the DW-KMM is 3.70059308834223e-10\n"
     ]
    }
   ],
   "source": [
    "class Mdl:\n",
    "    def __init__(self,intercep,deterministic,feature_map,labels,lambda0,loss,sigma):\n",
    "        self.intercep = intercep\n",
    "        self.deterministic = deterministic\n",
    "        self.feature_map = feature_map\n",
    "        self.labels = labels\n",
    "        self.lambda0 = lambda0 \n",
    "        self.loss = loss\n",
    "        self.sigma_ = sigma\n",
    "\n",
    "Prueba1 = Mdl(False,True,'linear',2,0.3,'0-1',sigma_)\n",
    "\n",
    "Prueba1 = Reweighted.KMM(Prueba1,xtr,xte)\n",
    "print(\"The beta weights are,\")\n",
    "print(Prueba1.beta_.T)\n",
    "print(\"The optimization value of the DW-KMM is\", Prueba1.min_KMM)"
   ]
  },
  {
   "cell_type": "code",
   "execution_count": 3,
   "metadata": {},
   "outputs": [
    {
     "name": "stdout",
     "output_type": "stream",
     "text": [
      "El vector tau es,\n",
      "[ 0.31509986  0.198157   -0.36213242  0.02452531]\n",
      "El vector lambda es,\n",
      "[0.04087272 0.04508653 0.0299322  0.02925585]\n"
     ]
    }
   ],
   "source": [
    "Prueba1 = Reweighted.parameters(Prueba1,xtr,ytr)\n",
    "\n",
    "print(\"El vector tau es,\")\n",
    "print( Prueba1.tau_)\n",
    "print(\"El vector lambda es,\")\n",
    "print( Prueba1.lambda_)"
   ]
  },
  {
   "cell_type": "code",
   "execution_count": 4,
   "metadata": {},
   "outputs": [
    {
     "name": "stdout",
     "output_type": "stream",
     "text": [
      "El vector mu es,\n",
      "[ 2.92118288e-12  1.88429580e-12 -1.61496062e+00 -4.21011218e-01]\n",
      "The value of the MRC optimization problem using weights beta obtained using KMM is 0.21748762915477116\n"
     ]
    }
   ],
   "source": [
    "Prueba1 = Reweighted.learning(Prueba1,xtr)\n",
    "\n",
    "print(\"El vector mu es,\")\n",
    "print( np.ravel(Prueba1.mu_))\n",
    "print(\"The value of the MRC optimization problem using weights beta obtained using KMM is\", Prueba1.RU)"
   ]
  },
  {
   "cell_type": "code",
   "execution_count": 5,
   "metadata": {},
   "outputs": [
    {
     "name": "stdout",
     "output_type": "stream",
     "text": [
      "El error de clasificación es\n",
      "0.04\n"
     ]
    }
   ],
   "source": [
    "Prueba1 = Reweighted.prediction(Prueba1,xte,yte)\n",
    "\n",
    "print(\"El error de clasificación es\",)\n",
    "print( Prueba1.error)"
   ]
  }
 ],
 "metadata": {
  "kernelspec": {
   "display_name": "CovariateShift",
   "language": "python",
   "name": "python3"
  },
  "language_info": {
   "codemirror_mode": {
    "name": "ipython",
    "version": 3
   },
   "file_extension": ".py",
   "mimetype": "text/x-python",
   "name": "python",
   "nbconvert_exporter": "python",
   "pygments_lexer": "ipython3",
   "version": "3.8.16"
  },
  "orig_nbformat": 4
 },
 "nbformat": 4,
 "nbformat_minor": 2
}
