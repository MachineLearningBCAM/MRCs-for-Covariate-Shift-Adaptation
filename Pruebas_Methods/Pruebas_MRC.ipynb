{
 "cells": [
  {
   "cell_type": "code",
   "execution_count": 1,
   "metadata": {},
   "outputs": [
    {
     "name": "stdout",
     "output_type": "stream",
     "text": [
      "The sigma value is, 26.6\n"
     ]
    }
   ],
   "source": [
    "import numpy as np\n",
    "from sklearn.neighbors import NearestNeighbors\n",
    "import sys\n",
    "sys.path.append('../Auxiliary_Functions/')\n",
    "from phi import phi\n",
    "sys.path.append('../MRC/')\n",
    "from MRC import MRC\n",
    "# Datos de ejemplo\n",
    "# np.random.seed(1)\n",
    "# x = np.random.multivariate_normal([0,0],[[1,0],[0,1]],50)\n",
    "# y = np.zeros([50,1])\n",
    "# for i in range(x.shape[0]):\n",
    "#    if x[i,0] >= 0:\n",
    "#        y[i] = int(1)\n",
    "#    else:\n",
    "#        y[i] = int(2)\n",
    "#x = (x-np.mean(x,axis=0))/np.std(x,axis=0)\n",
    "# m = x.shape[1]\n",
    "# _, distances = NearestNeighbors(n_neighbors=5, algorithm='auto').fit(x).kneighbors(x)\n",
    "# sigma_ = np.mean(distances[:, -1])\n",
    "\n",
    "# np.savetxt('synthetic_trial.csv', np.concatenate((x,y), axis=1), delimiter=',')\n",
    "\n",
    "data = np.genfromtxt('../synthetic_trial.csv', delimiter=',') \n",
    "\n",
    "xtr = data[:25,:2]\n",
    "xte = data[25:,:2]\n",
    "ytr = data[:25,2:].astype(int)\n",
    "yte = data[25:,2:].astype(int)\n",
    "m = xtr.shape[1]\n",
    "sigma_ = 26.6\n",
    "\n",
    "print(\"The sigma value is,\", sigma_)\n",
    "\n",
    "#print(\"The training samples are,\")\n",
    "#print(np.concatenate((xtr,ytr), axis=1))"
   ]
  },
  {
   "cell_type": "code",
   "execution_count": 2,
   "metadata": {},
   "outputs": [],
   "source": [
    "class Mdl:\n",
    "    def __init__(self,intercep,deterministic,feature_map,labels,lambda0,loss,sigma,D):\n",
    "        self.intercep = intercep\n",
    "        self.deterministic = deterministic\n",
    "        self.feature_map = feature_map\n",
    "        self.labels = labels\n",
    "        self.lambda0 = lambda0 \n",
    "        self.loss = loss\n",
    "        self.sigma_ = sigma\n",
    "        self.D = D\n",
    "\n",
    "Prueba1 = Mdl(False,True,'linear',2,0.3,'log',sigma_,2)"
   ]
  },
  {
   "cell_type": "code",
   "execution_count": 3,
   "metadata": {},
   "outputs": [
    {
     "name": "stdout",
     "output_type": "stream",
     "text": [
      "El vector tau es,\n",
      "[ 0.45453698 -0.15402685 -0.40760802 -0.06814355]\n",
      "El vector lambda es,\n",
      "[[0.04232385 0.05366596 0.0305373  0.03793817]]\n"
     ]
    }
   ],
   "source": [
    "Prueba1 = MRC.parameters(Prueba1,xtr,ytr)\n",
    "\n",
    "print(\"El vector tau es,\")\n",
    "print( Prueba1.tau_)\n",
    "print(\"El vector lambda es,\")\n",
    "print( Prueba1.lambda_)"
   ]
  },
  {
   "cell_type": "code",
   "execution_count": 4,
   "metadata": {},
   "outputs": [
    {
     "name": "stdout",
     "output_type": "stream",
     "text": [
      "El vector mu es,\n",
      "[ 1.30502875e-09  1.78764819e-09 -3.26906164e+00 -3.02247446e-01]\n",
      "The value of the MRC optimization problem is 0.2949167474701987\n"
     ]
    }
   ],
   "source": [
    "Prueba1 = MRC.learning(Prueba1,xtr)\n",
    "\n",
    "print(\"El vector mu es,\")\n",
    "print( np.ravel(Prueba1.mu_))\n",
    "print(\"The value of the MRC optimization problem is\", Prueba1.RU)"
   ]
  },
  {
   "cell_type": "code",
   "execution_count": 5,
   "metadata": {},
   "outputs": [
    {
     "name": "stdout",
     "output_type": "stream",
     "text": [
      "El error de clasificación es\n",
      "0.0\n"
     ]
    }
   ],
   "source": [
    "Prueba1 = MRC.prediction(Prueba1,xte,yte)\n",
    "\n",
    "print(\"El error de clasificación es\",)\n",
    "print( Prueba1.error)"
   ]
  }
 ],
 "metadata": {
  "kernelspec": {
   "display_name": "CovariateShift",
   "language": "python",
   "name": "python3"
  },
  "language_info": {
   "codemirror_mode": {
    "name": "ipython",
    "version": 3
   },
   "file_extension": ".py",
   "mimetype": "text/x-python",
   "name": "python",
   "nbconvert_exporter": "python",
   "pygments_lexer": "ipython3",
   "version": "3.8.16"
  },
  "orig_nbformat": 4
 },
 "nbformat": 4,
 "nbformat_minor": 2
}
