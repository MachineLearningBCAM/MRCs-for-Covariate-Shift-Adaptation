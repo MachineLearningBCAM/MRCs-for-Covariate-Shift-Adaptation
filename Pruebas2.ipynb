{
 "cells": [
  {
   "cell_type": "code",
   "execution_count": 1,
   "metadata": {},
   "outputs": [
    {
     "name": "stdout",
     "output_type": "stream",
     "text": [
      "The sigma value is, 26.6\n",
      "The training samples are,\n",
      "[[ 1.83111752 -0.62883089  1.        ]\n",
      " [-0.82016248 -1.11608551  2.        ]\n",
      " [ 0.89632522 -2.41402695  1.        ]\n",
      " [ 1.97949737 -0.78672012  1.        ]\n",
      " [ 0.22335683 -0.24598268  1.        ]\n",
      " [ 1.63128782 -2.1589984   1.        ]\n",
      " [-0.56673224 -0.38827161  2.        ]\n",
      " [ 1.22686954 -1.14452834  1.        ]\n",
      " [-0.38198907 -0.90995838  2.        ]\n",
      " [-0.11761212  0.63319238  1.        ]\n",
      " [-1.52525253  1.22682911  2.        ]\n",
      " [ 0.94089234  0.54833618  1.        ]\n",
      " [ 0.93998732 -0.70486621  1.        ]\n",
      " [-0.32097257 -0.97113935  2.        ]\n",
      " [-0.49956809  0.57777049  2.        ]\n",
      " [-1.02153375 -0.40168784  2.        ]\n",
      " [-1.01600576 -0.87546186  2.        ]\n",
      " [-0.99638883  0.00408872  2.        ]\n",
      " [-1.54581123  0.26512044  2.        ]\n",
      " [ 1.87479008  0.80141221  1.        ]\n",
      " [-0.40589332 -0.92028062  2.        ]\n",
      " [-1.08989071  1.8054877   2.        ]\n",
      " [-0.10702678 -0.65549526  1.        ]\n",
      " [ 0.06554551  2.23631475  1.        ]\n",
      " [-0.02160612  0.66952199  1.        ]]\n"
     ]
    }
   ],
   "source": [
    "import numpy as np\n",
    "from sklearn.neighbors import NearestNeighbors\n",
    "from Auxiliary_Functions.phi import phi \n",
    "from MRC.MRC import MRC\n",
    "# Datos de ejemplo\n",
    "# np.random.seed(1)\n",
    "# x = np.random.multivariate_normal([0,0],[[1,0],[0,1]],50)\n",
    "# y = np.zeros([50,1])\n",
    "# for i in range(x.shape[0]):\n",
    "#    if x[i,0] >= 0:\n",
    "#        y[i] = int(1)\n",
    "#    else:\n",
    "#        y[i] = int(2)\n",
    "#x = (x-np.mean(x,axis=0))/np.std(x,axis=0)\n",
    "# m = x.shape[1]\n",
    "# _, distances = NearestNeighbors(n_neighbors=5, algorithm='auto').fit(x).kneighbors(x)\n",
    "# sigma_ = np.mean(distances[:, -1])\n",
    "\n",
    "# np.savetxt('synthetic_trial.csv', np.concatenate((x,y), axis=1), delimiter=',')\n",
    "\n",
    "data = np.genfromtxt('synthetic_trial.csv', delimiter=',') \n",
    "\n",
    "xtr = data[:25,:2]\n",
    "xte = data[25:,:2]\n",
    "ytr = data[:25,2:].astype(int)\n",
    "yte = data[25:,2:].astype(int)\n",
    "m = xtr.shape[1]\n",
    "sigma_ = 26.6\n",
    "\n",
    "print(\"The sigma value is,\", sigma_)\n",
    "\n",
    "print(\"The training samples are,\")\n",
    "print(np.concatenate((xtr,ytr), axis=1))"
   ]
  },
  {
   "cell_type": "code",
   "execution_count": 2,
   "metadata": {},
   "outputs": [],
   "source": [
    "class Mdl:\n",
    "    def __init__(self,intercep,deterministic,feature_map,labels,lambda0,loss,sigma,D):\n",
    "        self.intercep = intercep\n",
    "        self.deterministic = deterministic\n",
    "        self.feature_map = feature_map\n",
    "        self.labels = labels\n",
    "        self.lambda0 = lambda0 \n",
    "        self.loss = loss\n",
    "        self.sigma_ = sigma\n",
    "        self.D = D\n",
    "\n",
    "Prueba1 = Mdl(False,True,'linear',2,0.3,'0-1',sigma_,2)"
   ]
  },
  {
   "cell_type": "code",
   "execution_count": 3,
   "metadata": {},
   "outputs": [
    {
     "name": "stdout",
     "output_type": "stream",
     "text": [
      "El vector tau es,\n",
      "[ 0.45453698 -0.15402685 -0.40760802 -0.06814355]\n",
      "El vector lambda es,\n",
      "[[0.04232385 0.05366596 0.0305373  0.03793817]]\n"
     ]
    }
   ],
   "source": [
    "Prueba1 = MRC.parameters(Prueba1,xtr,ytr)\n",
    "\n",
    "print(\"El vector tau es,\")\n",
    "print( Prueba1.tau_)\n",
    "print(\"El vector lambda es,\")\n",
    "print( Prueba1.lambda_)"
   ]
  },
  {
   "cell_type": "code",
   "execution_count": 4,
   "metadata": {},
   "outputs": [
    {
     "name": "stdout",
     "output_type": "stream",
     "text": [
      "===============================================================================\n",
      "                                     CVXPY                                     \n",
      "                                     v1.3.1                                    \n",
      "===============================================================================\n",
      "(CVXPY) Apr 24 12:31:22 PM: Your problem has 4 variables, 0 constraints, and 0 parameters.\n",
      "(CVXPY) Apr 24 12:31:22 PM: It is compliant with the following grammars: DCP, DQCP\n",
      "(CVXPY) Apr 24 12:31:22 PM: (If you need to solve this problem multiple times, but with different data, consider using parameters.)\n",
      "(CVXPY) Apr 24 12:31:22 PM: CVXPY will first compile your problem; then, it will invoke a numerical solver to obtain a solution.\n",
      "-------------------------------------------------------------------------------\n",
      "                                  Compilation                                  \n",
      "-------------------------------------------------------------------------------\n",
      "(CVXPY) Apr 24 12:31:22 PM: Compiling problem (target solver=MOSEK).\n",
      "(CVXPY) Apr 24 12:31:22 PM: Reduction chain: Dcp2Cone -> CvxAttr2Constr -> ConeMatrixStuffing -> MOSEK\n",
      "(CVXPY) Apr 24 12:31:22 PM: Applying reduction Dcp2Cone\n",
      "(CVXPY) Apr 24 12:31:22 PM: Applying reduction CvxAttr2Constr\n",
      "(CVXPY) Apr 24 12:31:22 PM: Applying reduction ConeMatrixStuffing\n",
      "(CVXPY) Apr 24 12:31:22 PM: Applying reduction MOSEK\n",
      "(CVXPY) Apr 24 12:31:22 PM: Finished problem compilation (took 7.317e-03 seconds).\n",
      "-------------------------------------------------------------------------------\n",
      "                                Numerical solver                               \n",
      "-------------------------------------------------------------------------------\n",
      "(CVXPY) Apr 24 12:31:22 PM: Invoking solver MOSEK  to obtain a solution.\n",
      "\n",
      "\n",
      "(CVXPY) Apr 24 12:31:22 PM: Problem\n",
      "(CVXPY) Apr 24 12:31:22 PM:   Name                   :                 \n",
      "(CVXPY) Apr 24 12:31:22 PM:   Objective sense        : maximize        \n",
      "(CVXPY) Apr 24 12:31:22 PM:   Type                   : LO (linear optimization problem)\n",
      "(CVXPY) Apr 24 12:31:22 PM:   Constraints            : 33              \n",
      "(CVXPY) Apr 24 12:31:22 PM:   Affine conic cons.     : 0               \n",
      "(CVXPY) Apr 24 12:31:22 PM:   Disjunctive cons.      : 0               \n",
      "(CVXPY) Apr 24 12:31:22 PM:   Cones                  : 0               \n",
      "(CVXPY) Apr 24 12:31:22 PM:   Scalar variables       : 83              \n",
      "(CVXPY) Apr 24 12:31:22 PM:   Matrix variables       : 0               \n",
      "(CVXPY) Apr 24 12:31:22 PM:   Integer variables      : 0               \n",
      "(CVXPY) Apr 24 12:31:22 PM: \n",
      "(CVXPY) Apr 24 12:31:22 PM: Optimizer started.\n",
      "(CVXPY) Apr 24 12:31:22 PM: Presolve started.\n",
      "(CVXPY) Apr 24 12:31:22 PM: Linear dependency checker started.\n",
      "(CVXPY) Apr 24 12:31:22 PM: Linear dependency checker terminated.\n",
      "(CVXPY) Apr 24 12:31:22 PM: Eliminator started.\n",
      "(CVXPY) Apr 24 12:31:22 PM: Freed constraints in eliminator : 4\n",
      "(CVXPY) Apr 24 12:31:22 PM: Eliminator terminated.\n",
      "(CVXPY) Apr 24 12:31:22 PM: Eliminator - tries                  : 1                 time                   : 0.00            \n",
      "(CVXPY) Apr 24 12:31:22 PM: Lin. dep.  - tries                  : 1                 time                   : 0.00            \n",
      "(CVXPY) Apr 24 12:31:22 PM: Lin. dep.  - number                 : 0               \n",
      "(CVXPY) Apr 24 12:31:22 PM: Presolve terminated. Time: 0.01    \n",
      "(CVXPY) Apr 24 12:31:22 PM: Problem\n",
      "(CVXPY) Apr 24 12:31:22 PM:   Name                   :                 \n",
      "(CVXPY) Apr 24 12:31:22 PM:   Objective sense        : maximize        \n",
      "(CVXPY) Apr 24 12:31:22 PM:   Type                   : LO (linear optimization problem)\n",
      "(CVXPY) Apr 24 12:31:22 PM:   Constraints            : 33              \n",
      "(CVXPY) Apr 24 12:31:22 PM:   Affine conic cons.     : 0               \n",
      "(CVXPY) Apr 24 12:31:22 PM:   Disjunctive cons.      : 0               \n",
      "(CVXPY) Apr 24 12:31:22 PM:   Cones                  : 0               \n",
      "(CVXPY) Apr 24 12:31:22 PM:   Scalar variables       : 83              \n",
      "(CVXPY) Apr 24 12:31:22 PM:   Matrix variables       : 0               \n",
      "(CVXPY) Apr 24 12:31:22 PM:   Integer variables      : 0               \n",
      "(CVXPY) Apr 24 12:31:22 PM: \n",
      "(CVXPY) Apr 24 12:31:22 PM: Optimizer  - threads                : 8               \n",
      "(CVXPY) Apr 24 12:31:22 PM: Optimizer  - solved problem         : the primal      \n",
      "(CVXPY) Apr 24 12:31:22 PM: Optimizer  - Constraints            : 29\n",
      "(CVXPY) Apr 24 12:31:22 PM: Optimizer  - Cones                  : 0\n",
      "(CVXPY) Apr 24 12:31:22 PM: Optimizer  - Scalar variables       : 79                conic                  : 0               \n",
      "(CVXPY) Apr 24 12:31:22 PM: Optimizer  - Semi-definite variables: 0                 scalarized             : 0               \n",
      "(CVXPY) Apr 24 12:31:22 PM: Factor     - setup time             : 0.00              dense det. time        : 0.00            \n",
      "(CVXPY) Apr 24 12:31:22 PM: Factor     - ML order time          : 0.00              GP order time          : 0.00            \n",
      "(CVXPY) Apr 24 12:31:22 PM: Factor     - nonzeros before factor : 135               after factor           : 135             \n",
      "(CVXPY) Apr 24 12:31:22 PM: Factor     - dense dim.             : 0                 flops                  : 2.01e+03        \n",
      "(CVXPY) Apr 24 12:31:22 PM: ITE PFEAS    DFEAS    GFEAS    PRSTATUS   POBJ              DOBJ              MU       TIME  \n",
      "(CVXPY) Apr 24 12:31:22 PM: 0   4.4e-01  4.1e+00  9.6e+00  0.00e+00   -8.387646992e+00  9.985116233e-01   2.3e-01  0.01  \n",
      "(CVXPY) Apr 24 12:31:22 PM: 1   1.3e-01  4.8e-02  2.9e+00  3.30e+00   -1.659672346e+00  -4.478106868e-01  6.8e-02  0.02  \n",
      "(CVXPY) Apr 24 12:31:22 PM: 2   5.0e-02  1.8e-02  1.1e+00  1.34e+00   -1.123256440e+00  -6.881354644e-01  2.6e-02  0.02  \n",
      "(CVXPY) Apr 24 12:31:22 PM: 3   1.5e-02  5.3e-03  3.2e-01  9.52e-01   -9.199180731e-01  -7.875514057e-01  7.6e-03  0.02  \n",
      "(CVXPY) Apr 24 12:31:22 PM: 4   3.7e-03  1.3e-03  8.0e-02  7.71e-01   -8.638990139e-01  -8.265092225e-01  1.9e-03  0.02  \n",
      "(CVXPY) Apr 24 12:31:22 PM: 5   2.1e-04  7.7e-05  4.6e-03  9.26e-01   -8.426809825e-01  -8.404475408e-01  1.1e-04  0.02  \n",
      "(CVXPY) Apr 24 12:31:22 PM: 6   8.4e-07  3.1e-07  1.9e-05  1.01e+00   -8.413305218e-01  -8.413213297e-01  4.4e-07  0.03  \n",
      "(CVXPY) Apr 24 12:31:22 PM: 7   9.6e-11  3.5e-11  2.1e-09  1.00e+00   -8.413234839e-01  -8.413234828e-01  5.0e-11  0.03  \n",
      "(CVXPY) Apr 24 12:31:22 PM: 8   1.3e-14  3.8e-15  2.1e-13  1.00e+00   -8.413234831e-01  -8.413234831e-01  5.0e-15  0.03  \n",
      "(CVXPY) Apr 24 12:31:22 PM: Optimizer terminated. Time: 0.05    \n",
      "(CVXPY) Apr 24 12:31:22 PM: \n",
      "(CVXPY) Apr 24 12:31:22 PM: \n",
      "(CVXPY) Apr 24 12:31:22 PM: Interior-point solution summary\n",
      "(CVXPY) Apr 24 12:31:22 PM:   Problem status  : PRIMAL_AND_DUAL_FEASIBLE\n",
      "(CVXPY) Apr 24 12:31:22 PM:   Solution status : OPTIMAL\n",
      "(CVXPY) Apr 24 12:31:22 PM:   Primal.  obj: -8.4132348309e-01   nrm: 5e-01    Viol.  con: 2e-14    var: 0e+00  \n",
      "(CVXPY) Apr 24 12:31:22 PM:   Dual.    obj: -8.4132348309e-01   nrm: 4e+00    Viol.  con: 0e+00    var: 2e-15  \n",
      "-------------------------------------------------------------------------------\n",
      "                                    Summary                                    \n",
      "-------------------------------------------------------------------------------\n",
      "(CVXPY) Apr 24 12:31:22 PM: Problem status: optimal\n",
      "(CVXPY) Apr 24 12:31:22 PM: Optimal value: 1.587e-01\n",
      "(CVXPY) Apr 24 12:31:22 PM: Compilation took 7.317e-03 seconds\n",
      "(CVXPY) Apr 24 12:31:22 PM: Solver (including time spent in interface) took 6.720e-02 seconds\n",
      "El vector mu es,\n",
      "[ 1.28081637e-14  1.56667828e-14 -1.91280924e+00 -2.95978118e-01]\n",
      "The optimization value of the DW-GCS is 0.1586765169069721\n"
     ]
    }
   ],
   "source": [
    "Prueba1 = MRC.learning(Prueba1,xtr)\n",
    "\n",
    "print(\"El vector mu es,\")\n",
    "print( np.ravel(Prueba1.mu_))\n",
    "print(\"The optimization value of the DW-GCS is\", Prueba1.RU)"
   ]
  },
  {
   "cell_type": "code",
   "execution_count": 5,
   "metadata": {},
   "outputs": [
    {
     "name": "stdout",
     "output_type": "stream",
     "text": [
      "El error de clasificación es\n",
      "0.04\n"
     ]
    }
   ],
   "source": [
    "Prueba1 = MRC.prediction(Prueba1,xte,yte)\n",
    "\n",
    "print(\"El error de clasificación es\",)\n",
    "print( Prueba1.error)"
   ]
  }
 ],
 "metadata": {
  "kernelspec": {
   "display_name": "CovariateShift",
   "language": "python",
   "name": "python3"
  },
  "language_info": {
   "codemirror_mode": {
    "name": "ipython",
    "version": 3
   },
   "file_extension": ".py",
   "mimetype": "text/x-python",
   "name": "python",
   "nbconvert_exporter": "python",
   "pygments_lexer": "ipython3",
   "version": "3.8.16"
  },
  "orig_nbformat": 4
 },
 "nbformat": 4,
 "nbformat_minor": 2
}
