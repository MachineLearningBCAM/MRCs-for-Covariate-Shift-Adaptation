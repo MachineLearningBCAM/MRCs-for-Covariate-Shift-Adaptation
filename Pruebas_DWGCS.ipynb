{
 "cells": [
  {
   "cell_type": "code",
   "execution_count": 1,
   "metadata": {},
   "outputs": [
    {
     "name": "stdout",
     "output_type": "stream",
     "text": [
      "The sigma value is, 26.6\n",
      "The training samples are,\n",
      "[[ 1.83111752 -0.62883089  1.        ]\n",
      " [-0.82016248 -1.11608551  2.        ]\n",
      " [ 0.89632522 -2.41402695  1.        ]\n",
      " [ 1.97949737 -0.78672012  1.        ]\n",
      " [ 0.22335683 -0.24598268  1.        ]\n",
      " [ 1.63128782 -2.1589984   1.        ]\n",
      " [-0.56673224 -0.38827161  2.        ]\n",
      " [ 1.22686954 -1.14452834  1.        ]\n",
      " [-0.38198907 -0.90995838  2.        ]\n",
      " [-0.11761212  0.63319238  1.        ]\n",
      " [-1.52525253  1.22682911  2.        ]\n",
      " [ 0.94089234  0.54833618  1.        ]\n",
      " [ 0.93998732 -0.70486621  1.        ]\n",
      " [-0.32097257 -0.97113935  2.        ]\n",
      " [-0.49956809  0.57777049  2.        ]\n",
      " [-1.02153375 -0.40168784  2.        ]\n",
      " [-1.01600576 -0.87546186  2.        ]\n",
      " [-0.99638883  0.00408872  2.        ]\n",
      " [-1.54581123  0.26512044  2.        ]\n",
      " [ 1.87479008  0.80141221  1.        ]\n",
      " [-0.40589332 -0.92028062  2.        ]\n",
      " [-1.08989071  1.8054877   2.        ]\n",
      " [-0.10702678 -0.65549526  1.        ]\n",
      " [ 0.06554551  2.23631475  1.        ]\n",
      " [-0.02160612  0.66952199  1.        ]]\n"
     ]
    }
   ],
   "source": [
    "import numpy as np\n",
    "from sklearn.neighbors import NearestNeighbors\n",
    "from Auxiliary_Functions.phi import phi \n",
    "from DWGCS.DWGCS import DWGCS\n",
    "# Datos de ejemplo\n",
    "# np.random.seed(1)\n",
    "# x = np.random.multivariate_normal([0,0],[[1,0],[0,1]],50)\n",
    "# y = np.zeros([50,1])\n",
    "# for i in range(x.shape[0]):\n",
    "#    if x[i,0] >= 0:\n",
    "#        y[i] = int(1)\n",
    "#    else:\n",
    "#        y[i] = int(2)\n",
    "#x = (x-np.mean(x,axis=0))/np.std(x,axis=0)\n",
    "# m = x.shape[1]\n",
    "# _, distances = NearestNeighbors(n_neighbors=5, algorithm='auto').fit(x).kneighbors(x)\n",
    "# sigma_ = np.mean(distances[:, -1])\n",
    "\n",
    "# np.savetxt('synthetic_trial.csv', np.concatenate((x,y), axis=1), delimiter=',')\n",
    "\n",
    "data = np.genfromtxt('synthetic_trial.csv', delimiter=',') \n",
    "\n",
    "xtr = data[:25,:2]\n",
    "xte = data[25:,:2]\n",
    "ytr = data[:25,2:].astype(int)\n",
    "yte = data[25:,2:].astype(int)\n",
    "m = xtr.shape[1]\n",
    "sigma_ = 26.6\n",
    "\n",
    "print(\"The sigma value is,\", sigma_)\n",
    "\n",
    "print(\"The training samples are,\")\n",
    "print(np.concatenate((xtr,ytr), axis=1))"
   ]
  },
  {
   "cell_type": "code",
   "execution_count": 2,
   "metadata": {},
   "outputs": [
    {
     "name": "stdout",
     "output_type": "stream",
     "text": [
      "The beta weights are,\n",
      "[[0.39680311]\n",
      " [0.30151541]\n",
      " [0.11399322]\n",
      " [0.33411753]\n",
      " [1.26245035]\n",
      " [0.12910804]\n",
      " [0.86248074]\n",
      " [0.27612227]\n",
      " [0.39521843]\n",
      " [1.45013898]\n",
      " [0.61770323]\n",
      " [2.03483236]\n",
      " [0.45634117]\n",
      " [0.36599165]\n",
      " [1.22973161]\n",
      " [0.70991064]\n",
      " [0.38894858]\n",
      " [1.02988425]\n",
      " [0.74452656]\n",
      " [0.87168754]\n",
      " [0.38958218]\n",
      " [0.67270035]\n",
      " [0.57930055]\n",
      " [0.79451412]\n",
      " [1.45362967]]\n",
      "The alpha weights are,\n",
      "[[0.70374927]\n",
      " [0.71779026]\n",
      " [0.69796148]\n",
      " [0.70305962]\n",
      " [0.70249616]\n",
      " [0.7366363 ]\n",
      " [0.70218526]\n",
      " [0.69480841]\n",
      " [0.734775  ]\n",
      " [0.79881005]\n",
      " [0.7294877 ]\n",
      " [0.70310475]\n",
      " [0.82069608]\n",
      " [0.70692825]\n",
      " [0.6984691 ]\n",
      " [0.70007264]\n",
      " [0.69130792]\n",
      " [0.6913624 ]\n",
      " [0.70160677]\n",
      " [0.71519112]\n",
      " [0.69560114]\n",
      " [0.71944851]\n",
      " [0.69160626]\n",
      " [0.69631278]\n",
      " [0.70790659]]\n",
      "The optimization value of the DW-KMM is 5.02947788319976e-10\n"
     ]
    }
   ],
   "source": [
    "class Mdl:\n",
    "    def __init__(self,intercep,deterministic,feature_map,labels,lambda0,loss,sigma,D):\n",
    "        self.intercep = intercep\n",
    "        self.deterministic = deterministic\n",
    "        self.feature_map = feature_map\n",
    "        self.labels = labels\n",
    "        self.lambda0 = lambda0 \n",
    "        self.loss = loss\n",
    "        self.sigma_ = sigma\n",
    "        self.D = D\n",
    "\n",
    "Prueba1 = Mdl(False,False,'linear',2,0,'0-1',sigma_,2)\n",
    "\n",
    "Prueba1 = DWGCS.DWKMM(Prueba1,xtr,xte)\n",
    "print(\"The beta weights are,\")\n",
    "print(Prueba1.beta_)\n",
    "print(\"The alpha weights are,\")\n",
    "print(Prueba1.alpha_)\n",
    "print(\"The optimization value of the DW-KMM is\", Prueba1.min_DWKMM)"
   ]
  },
  {
   "cell_type": "code",
   "execution_count": 3,
   "metadata": {},
   "outputs": [
    {
     "name": "stdout",
     "output_type": "stream",
     "text": [
      "El vector tau es,\n",
      "[ 0.2434947   0.12353305 -0.26999003  0.02055277]\n",
      "El vector lambda es,\n",
      "[1.13530597e-02 5.78258501e-04 1.15112160e-02 1.00000376e-06]\n"
     ]
    }
   ],
   "source": [
    "Prueba1 = DWGCS.parameters(Prueba1,xtr,ytr,xte)\n",
    "\n",
    "print(\"El vector tau es,\")\n",
    "print( Prueba1.tau_)\n",
    "print(\"El vector lambda es,\")\n",
    "print( Prueba1.lambda_)"
   ]
  },
  {
   "cell_type": "code",
   "execution_count": 4,
   "metadata": {},
   "outputs": [
    {
     "name": "stdout",
     "output_type": "stream",
     "text": [
      "El vector mu es,\n",
      "[ 7.01986908  1.07576182 -8.22937872 -1.07654679]\n",
      "The value of the MRC optimization problem using weights beta obtained using DWKMM is 0.01281262083946999\n"
     ]
    }
   ],
   "source": [
    "Prueba1 = DWGCS.learning(Prueba1,xte)\n",
    "\n",
    "print(\"El vector mu es,\")\n",
    "print( np.ravel(Prueba1.mu_))\n",
    "print(\"The value of the MRC optimization problem using weights beta obtained using DWKMM is\", Prueba1.RU)"
   ]
  },
  {
   "cell_type": "code",
   "execution_count": 5,
   "metadata": {},
   "outputs": [
    {
     "name": "stdout",
     "output_type": "stream",
     "text": [
      "El error de clasificación es\n",
      "0.04\n"
     ]
    }
   ],
   "source": [
    "Prueba1 = DWGCS.prediction(Prueba1,xte,yte)\n",
    "\n",
    "print(\"El error de clasificación es\",)\n",
    "print( Prueba1.error)"
   ]
  }
 ],
 "metadata": {
  "kernelspec": {
   "display_name": "CovariateShift",
   "language": "python",
   "name": "python3"
  },
  "language_info": {
   "codemirror_mode": {
    "name": "ipython",
    "version": 3
   },
   "file_extension": ".py",
   "mimetype": "text/x-python",
   "name": "python",
   "nbconvert_exporter": "python",
   "pygments_lexer": "ipython3",
   "version": "3.8.16"
  },
  "orig_nbformat": 4
 },
 "nbformat": 4,
 "nbformat_minor": 2
}
